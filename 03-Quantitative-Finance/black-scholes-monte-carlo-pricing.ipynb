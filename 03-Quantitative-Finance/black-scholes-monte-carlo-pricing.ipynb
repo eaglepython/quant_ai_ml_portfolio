{
  "nbformat": 4,
  "nbformat_minor": 0,
  "metadata": {
    "colab": {
      "provenance": []
    },
    "kernelspec": {
      "name": "python3",
      "display_name": "Python 3"
    },
    "language_info": {
      "name": "python"
    }
  },
  "cells": [
    {
      "cell_type": "markdown",
      "source": [
        " Step 1: European Option Pricing (Black-Scholes vs. Monte Carlo)"
      ],
      "metadata": {
        "id": "V7qtNoVKziCA"
      }
    },
    {
      "cell_type": "markdown",
      "source": [
        "1.1: Pricing European Options using Black-Scholes\n",
        "Black-Scholes Formula for Call & Put Options\n",
        "\n"
      ],
      "metadata": {
        "id": "gFPfLCTCzOjv"
      }
    },
    {
      "cell_type": "markdown",
      "source": [
        "The Black-Scholes formula for a European call is:\n",
        "\n",
        "$C=S_0N(d_1)−Ke^{−rT}N(d_2)$\n",
        "\n",
        "\n",
        "For a ***European put***:\n",
        "$P=Ke^{−rT}N(−d_2)−S_0N(−d_1)$\n",
        "\n",
        "\n",
        "where:\n",
        "\n",
        "$d1=\\frac{ln⁡(S_0/K)+(r+​\\frac{1}{2}\\sigma^2)T}{\\sigma \\sqrt{T}}$\n",
        "\n",
        "\n",
        "$d2=d1−\\sigma \\sqrt{T}$\n",
        "\n",
        "​"
      ],
      "metadata": {
        "id": "gO1FXtxeqHfx"
      }
    },
    {
      "cell_type": "markdown",
      "source": [
        "~ Given Data (Same as GWP1):\n",
        "\n",
        "   So=100 (Initial stock price)\n",
        "\n",
        "  K=100 (ATM Strike price)\n",
        "\n",
        "  T=3/12 years (3 months to maturity)\n",
        "\n",
        "  r=5 (Annual risk-free rate)\n",
        "  \n",
        "  σ=20(Annual volatility)"
      ],
      "metadata": {
        "id": "T_GJ86GQHWV_"
      }
    },
    {
      "cell_type": "markdown",
      "source": [
        "Results:\n",
        "\n",
        "| Option Type            | Price |\n",
        "|-------------------------|-------|\n",
        "| Black-Scholes European  Call  | 4.61  |\n",
        "| Black-Scholes European  Put  | 3.37  |\n"
      ],
      "metadata": {
        "id": "SLwnGyuczMsB"
      }
    },
    {
      "cell_type": "markdown",
      "source": [
        "Computing Delta for the European Call & Put:"
      ],
      "metadata": {
        "id": "QN0oxK_lL8Op"
      }
    },
    {
      "cell_type": "markdown",
      "source": [
        "Delta ($\\Delta$) measures how much an option price changes with respect to a small change in the stock price.\n",
        "\n",
        "For a ***call option***:\n",
        "\n",
        "  $\\Delta_{\\text{call}} =N(d_1)$\n",
        "\n",
        "\n",
        "For a ***put option***:\n",
        "\n",
        "  $\\Delta_{\\text{put}} =N(d_1) - 1$\n",
        "\n",
        "\n",
        "\n",
        "\n",
        "\n",
        "\n"
      ],
      "metadata": {
        "id": "T5RlrELuq1QW"
      }
    },
    {
      "cell_type": "markdown",
      "source": [
        "*Results & Interpretation*\n",
        "\n",
        "\n",
        "   Call Option Delta: 0.5740.574\n",
        "\n",
        " ***Interpretation***: A 1 dollar increase in stock price increases the call option price by $0.574.\n",
        "  \n"
      ],
      "metadata": {
        "id": "wONesBN3K4B1"
      }
    },
    {
      "cell_type": "markdown",
      "source": [
        " Put Option Delta: −0.426−0.426\n",
        "\n",
        "   ***Interpretation***: A 1 dollar increase in stock price decreases the put option price by $0.426.\n"
      ],
      "metadata": {
        "id": "vMXB_Qxih7Ag"
      }
    },
    {
      "cell_type": "markdown",
      "source": [
        "Call Delta is positive since the call option price increases with a rise in the stock price.\n",
        "Put Delta is negative since the put option price decreases with a rise in the stock price.\n",
        "Call and put deltas sum up to 1 in absolute terms, which verifies Put-Call Parity."
      ],
      "metadata": {
        "id": "duyio6Wfhrw_"
      }
    },
    {
      "cell_type": "markdown",
      "source": [
        "Vega (Sensitivity to Volatility):\n",
        "\n",
        "Vega ($ν$) measures how sensitive an option price is to changes in volatility.\n",
        "\n",
        "$Vega=S_0\\sqrt{T}⋅N′(d_1)$\n",
        "\n",
        "where $N′(d1)$ is the probability density function of the standard normal distribution."
      ],
      "metadata": {
        "id": "vuvdC8s6sjMB"
      }
    },
    {
      "cell_type": "markdown",
      "source": [
        "*Results*: 19.64"
      ],
      "metadata": {
        "id": "4-UlSMP3Mzsw"
      }
    },
    {
      "cell_type": "markdown",
      "source": [
        "Comparing Binomial Tree & Black-Scholes)"
      ],
      "metadata": {
        "id": "ATmC-O-Gm_u9"
      }
    },
    {
      "cell_type": "markdown",
      "source": [
        "| Q# | Option Type | Method (GWP1) | Method (GWP2) | GWP1 Price | GWP2 Price | % Diff |\n",
        "|---|---|---|---|---|---|---|\n",
        "| 5 | ATM Call | Binomial Tree | Black-Scholes | $5.50$ | $4.61$ | -16.18% |\n",
        "| 5 | ATM Put | Binomial Tree | Black-Scholes | $2.75$ | $3.37$ | +22.55% |\n",
        "| 6 | Delta (Call) | Binomial Tree | Black-Scholes | 0.570 | 0.574 | +0.70% |\n",
        "| 6 | Delta (Put) | Binomial Tree | Black-Scholes | -0.430 | -0.426 | -0.93% |\n",
        "| 7 | Vega | Binomial Tree | Black-Scholes | 14.00 | 19.64 | +40.29% |"
      ],
      "metadata": {
        "id": "wQSPLj6Rmw0h"
      }
    },
    {
      "cell_type": "markdown",
      "source": [
        "*The Black-Scholes model prices the European call at 4.61 and the put at 3.37. The call Delta (0.574) means the call price rises by 0.574 for every dollar rise in the stock, while the put Delta (-0.426) means its price declines by 0.426 for the same movement in the stock. The Vega (19.64) means prices rise by 0.1964 for every 1% increase in volatility. Black-Scholes is faster than binomial models and is ideal for European options where early exercise is not a concern.*"
      ],
      "metadata": {
        "id": "MUx6ilBQuYtr"
      }
    },
    {
      "cell_type": "markdown",
      "source": [
        "\n",
        "\n",
        "## Step 1.2\n",
        "\n",
        "### Pricing ATM European Call and Put Using Monte Carlo Methods\n",
        "\n",
        "Results:\n",
        "\n",
        "| Option Type            | Price |\n",
        "|-------------------------|-------|\n",
        "| Monte Carlo European Call | 4.59  |\n",
        "| Monte Carlo European Put  | 3.37  |\n",
        "\n",
        "\n",
        "### Our approach\n",
        "\n",
        "Geometric Brownian Motion model in a risk-neutral framework (i.e. use a \"risk-neutral\" r as drift).\n",
        "\n",
        "$dS_t = r S_t dt + \\sigma S_t dW_t$\n",
        "\n",
        "Using the log-price $X_t = \\ln(S_t)$, the discretized form is:\n",
        "\n",
        "$X_{k+1} = X_k + ( r - \\frac{1}{2} \\sigma^2 ) \\Delta t + \\sigma \\sqrt{\\Delta t} Z_k$\n",
        "\n",
        "where $Z_k \\sim N(0, 1)$ is a normal, $\\Delta t = \\frac{T}{N}$ the discrete time steps where T = 3 month is split into N=63 trading days (252 in a year).\n",
        "\n",
        "We plot the results for different number of simulation (see code appendix). We see convergence to the real value after around 20000.\n",
        "\n",
        "\n",
        "### BS Delta and Vega\n",
        "\n",
        "| Metric                                  | Value  |\n",
        "|------------------------------------------|--------|\n",
        "| Call Price (S0=100, sigma=0.20)         | 4.58   |\n",
        "| Put Price (S0=100, sigma=0.20)          | 3.36   |\n",
        "| Delta for Call                           | 0.59   |\n",
        "| Delta for Put                            | -0.41  |\n",
        "| Vega for Call (per 1%)                  | 19.49  |\n",
        "| Vega for Put (per 1%)                   | 19.62  |\n",
        "| Call Price Change (sigma 0.20 to 0.25) | 0.98   |\n",
        "| Put Price Change (sigma 0.20 to 0.25)  | 0.98   |\n",
        "\n",
        "### Interpretation\n",
        "\n",
        "Signs:\n",
        "Positive: Call price increases with the stock price ($S_0$)\n",
        "Negative: Put price decreases with ($S_0$)\n",
        "\n",
        "Delta tells us how much of the stock we should long/short in order to hedge the option (when selling it, i.e. we need 0.57 shares per option if we sell the call).\n",
        "\n",
        "To calculate these, we take the prices from the simulation and use discrete differences to approximate, i.e.\n",
        "$\\text{Vega} = \\frac{(C(\\sigma=0.21) - C(\\sigma=0.20) }{0.01}$\n"
      ],
      "metadata": {
        "id": "4UL_EMWoVKtS"
      }
    },
    {
      "cell_type": "markdown",
      "source": [
        "Step 1.3"
      ],
      "metadata": {
        "id": "x479QW24-fcW"
      }
    },
    {
      "cell_type": "markdown",
      "source": [
        "- Black-Scholes Put-Call Parity Check:\n",
        "$Call - Put = 1.24, S0 - K*exp(-rT) = 1.24$\n",
        "Parity Holds: True\n",
        "\n",
        "- Monte Carlo Put-Call Parity Check:\n",
        "$Call - Put = 1.22, S0 - K*exp(-rT) = 1.24$\n",
        "Parity Holds: False\n",
        "\n",
        "- Black-Scholes Call Price: $4.61$, Monte Carlo Call Price: $4.59$\n",
        "Black-Scholes Put Price: $3.37$, Monte Carlo Put Price: $3.37$\n",
        "\n",
        "- A UAO barrier option becomes worthless if the stock price passes the the barrier.\n",
        "- A UAI barrier option only becomes active when the stock price crosses the barrier.\n",
        "- By arbitrage pricing, we should have: Up-and-In Price + Up-and-Out Price = Vanilla Price."
      ],
      "metadata": {
        "id": "4fUCP-b3pkO8"
      }
    },
    {
      "cell_type": "markdown",
      "source": [
        "Step 2"
      ],
      "metadata": {
        "id": "ujLOwuMfhjg3"
      }
    },
    {
      "cell_type": "markdown",
      "source": [
        "2.4 Geometric Brownian Motion (GBM) Model\n",
        "\n",
        "The Monte Carlo method simulates multiple possible paths for the stock price using the GBM equation:\n",
        "\n",
        "$S_T​=S_0e^{(r−​\\frac{1}{2}\\sigma^2)T +\\sigma \\sqrt{T}Z\n",
        "​}$\n",
        "\n",
        "\n",
        "\n",
        "\n",
        "where $Z∼N(0,1)$. Since American options allow early exercise, we check at each time step whether exercising the option is optimal."
      ],
      "metadata": {
        "id": "Rljpws7a3yK_"
      }
    },
    {
      "cell_type": "markdown",
      "source": [
        "Results :\n",
        "Monte Carlo American Call Price: $4.59$"
      ],
      "metadata": {
        "id": "eAbHGV5pAT89"
      }
    },
    {
      "cell_type": "markdown",
      "source": [
        "***Interpretation***\n",
        "\n",
        "This is higher than the European call price ($4.61$ in Black-Scholes) because early exercise is an option for American options, thus they are more valuable."
      ],
      "metadata": {
        "id": "c_1bHQiKA9g5"
      }
    },
    {
      "cell_type": "markdown",
      "source": [
        "calculating Delta Δ:\n",
        "\n",
        "$\\Delta = \\frac{C(S+ϵ)−C(S−ϵ)}{2ϵ}$\n",
        "\n"
      ],
      "metadata": {
        "id": "ntBJPOEEChbr"
      }
    },
    {
      "cell_type": "markdown",
      "source": [
        "American Call $\\Delta$: 0.578"
      ],
      "metadata": {
        "id": "Cig6ohn2HOhE"
      }
    },
    {
      "cell_type": "markdown",
      "source": [
        "Calculating Vega for the American Call Option\n",
        "\n",
        "$vega = \\frac{(σ+ϵ)−C(σ−ϵ)}{2ϵ}$\n",
        "\n"
      ],
      "metadata": {
        "id": "BbJ9RjQxFCzm"
      }
    },
    {
      "cell_type": "markdown",
      "source": [
        "American Call $v$: 19.50"
      ],
      "metadata": {
        "id": "WUCzqCtiZewF"
      }
    },
    {
      "cell_type": "markdown",
      "source": [
        " A 1% increase in volatility increases the option price by $0.1950. This is higher than European Vega (19.64) since early exercise makes the option more sensitive to volatility."
      ],
      "metadata": {
        "id": "gO9gVWxqYr2h"
      }
    },
    {
      "cell_type": "markdown",
      "source": [
        "***Interpretation***:\n",
        "\n",
        "Monte Carlo pricing of American calls involves early exercise and thus prices that are greater than those of European calls.\n",
        "Delta (0.57) and Vega (19.50) both confirm that American options are more sensitive to stock price and volatility changes.\n",
        "The Monte Carlo approach with daily time steps provides a more realistic option behavior simulation."
      ],
      "metadata": {
        "id": "2JyL2qOwc8Wk"
      }
    },
    {
      "cell_type": "markdown",
      "source": [
        "\n",
        "\n",
        " Step 2.5\n",
        "\n",
        "\n",
        "| Metric                         | Value     |\n",
        "|---------------------------------|-----------|\n",
        "| Put Price (S0=100, sigma=0.20) | 3.47    |\n",
        "| Delta for Put                  | -0.44   |\n",
        "| Vega for Put (per 1%)           | 19.43   |\n",
        "| Put Price Change (sigma 0.20 to 0.25) | 0.98    |\n",
        "\n",
        "For the American put option pricing we use a MC algorithm by Longstaff and Schwartz (Longstaff p. 115-120).\n",
        "\n",
        "The algorithm starts with regular GBM but that we have to go backwards, checking when an early exercise is (approximatively) optimal.\n",
        "At step n we compare the current payoff when exercising, $K-S_n$, with the discounted payoff $Y=C_{n+1}=e^{-r \\Delta t}\\max(K-S_{n+1},0)$. We actually use the expected discounted payoff, $E[Y|X]$.\n",
        "$C_{n+1}$ is calculated as follows:\n",
        "We consider all paths in our simulation which are ITM at step n. We consider the variable $X=S_n$. We use its powers $1,X,X^2$ use them to regress $E[Y|X]$, i.e. find a,b,c such that $E[Y|X]\\sim a+bX+cX^2$. Having found a,b,c based on all the paths in our simulaiton, we make the pathwise comparison $a+bX+cX^2 > K-X $ to continue or to exercise.\n",
        "\n",
        "Vega, and Delta are then calculated following the same approach as before.\n"
      ],
      "metadata": {
        "id": "sN6T8e6C2_bL"
      }
    },
    {
      "cell_type": "markdown",
      "source": [
        "Step 2.6 *(Please check the graph on code)*\n",
        "\n",
        "![image.png](data:image/png;base64,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)"
      ],
      "metadata": {
        "id": "jfjrFfJXL_eZ"
      }
    },
    {
      "cell_type": "code",
      "source": [],
      "metadata": {
        "id": "j3ChWNEBqSAI"
      },
      "execution_count": null,
      "outputs": []
    },
    {
      "cell_type": "markdown",
      "source": [
        "\n",
        "\n",
        "- Call option prices increase as moneyness increases. This is because ITM options have higher intrinsic value.\n",
        "\n",
        "- Put option prices decrease as moneyness increases. This is because ITM puts have higher value compared to OTM puts.\n"
      ],
      "metadata": {
        "id": "V3a1a_-sMSJ5"
      }
    },
    {
      "cell_type": "markdown",
      "source": [
        "Step 3"
      ],
      "metadata": {
        "id": "6X3iO046iC-V"
      }
    },
    {
      "cell_type": "markdown",
      "source": [
        "3.7\n",
        "\n",
        "***a.Option Prices***\n",
        "\n",
        "   European Call Price (110% Moneyness): $Pcall=2.93$\n",
        "\n",
        "   European Put Price (95% Moneyness): $Pput=2.38\n",
        "\n",
        "*Delta Calculation*\n",
        "\n",
        "  Call Delta (110% Moneyness): 0.415\n",
        "\n",
        "  Put Delta (95% Moneyness): -0.549\n"
      ],
      "metadata": {
        "id": "SV_tA0nnncFV"
      }
    },
    {
      "cell_type": "markdown",
      "source": [
        "***Portfolio Delta and Hedging Strategy***:\n",
        "\n",
        "***b.Portfolio 1: Buying Both Call and Put***\n",
        "\n",
        "  Portfolio Delta = 0.415+(−0.549)=−0.1340.415+(−0.549)=−0.134\n",
        "\n",
        "\n",
        "***Note: Hedging Strategy: Since the portfolio has a negative Delta, in order to offset risk, you would buy 0.134 shares of the underlying stock.***\n"
      ],
      "metadata": {
        "id": "WOSeOpOfbsv2"
      }
    },
    {
      "cell_type": "markdown",
      "source": [
        "***c.Portfolio 2: Buying Call and Selling Put***\n",
        "\n",
        "  Portfolio Delta = 0.415−(−0.549)=0.9640.415−(−0.549)=0.964\n",
        "  Hedging Strategy: Since the portfolio has a positive Delta, in order to offset risk, you would sell 0.964 shares of the underlying stock.\n",
        "  \n",
        "***Interpretation***\n",
        "\n",
        "A negative Delta indicates that the portfolio increases as the stock price decreases, so we hedge by buying shares.\n",
        "A positive Delta indicates that the portfolio increases as the stock price increases, so we hedge by selling shares.\n"
      ],
      "metadata": {
        "id": "Z-Zm0uBNb11r"
      }
    },
    {
      "cell_type": "markdown",
      "source": [
        "Step 3.8\n",
        "\n",
        "| Option Type | Price |\n",
        "|---|---|\n",
        "| Up-and-Out Call | 0.71 |\n",
        "\n",
        "### Explanation:\n",
        "\n",
        "A UAO barrier option is behaves like an European option with the additional property that it becomes worthless once the current stock price passes a barrier B, which is a pre-agreed threshold. Thus, to calculate the payoff, at every step of the simulation we check if $S_n>B$ in which case C=0. In the code, we simply take the maximum over the whole path and compare it with B.\n"
      ],
      "metadata": {
        "id": "YPv4pCbrMYkX"
      }
    },
    {
      "cell_type": "markdown",
      "source": [
        "Step 3.9"
      ],
      "metadata": {
        "id": "8JmubJaiCH9Q"
      }
    },
    {
      "cell_type": "markdown",
      "source": [
        "Up-and-In Call Option Price: 13.2131\n",
        "\n",
        "Up-and-Out Call Option Price: 0.7100\n",
        "\n",
        "Vanilla European Call Option Price: 13.9303\n",
        "\n",
        "If the stock price dont cross the barrier, then the option will always expire worthless.\n",
        "\n",
        "Payoff Calculation:\n",
        "  During the simulation, we are checking i stock price $( S_n )$ has crossed or reached the barrier $( B $)\n",
        "  \n",
        "   $(i.e., ( S_n \\geq B ))$\n",
        "\n",
        "   If the barrier is not crossed, then the option remains inactive and expires with zero payoff.\n",
        "\n",
        "    "
      ],
      "metadata": {
        "id": "VF1UZfqBCMqM"
      }
    },
    {
      "cell_type": "markdown",
      "source": [
        "***Relationship Between UAO, UAI, and Vanilla Prices***:\n",
        "\n",
        "*   List item\n",
        "\n",
        "*   List item\n",
        "*   List item\n",
        "\n",
        "\n",
        "*   List item\n",
        "\n",
        "\n",
        "\n",
        "a. UAO barrier option is  worthless if the stock price crosses the barrier.\n",
        "\n",
        "b. UAI barrier option can only become active if the stock price crosses the barrier.\n",
        "\n",
        "c. If there is  arbitrage pricing then\n",
        "\n",
        "$ Up-and-In Price + Up-and-Out Price \\simeq Vanilla Price$\n",
        "\n"
      ],
      "metadata": {
        "id": "CxT58gKkjLtl"
      }
    },
    {
      "cell_type": "markdown",
      "source": [
        "***References***\n",
        "\n",
        "Longstaff, Francis A., and Eduardo S. Schwartz. \"Valuing American options by simulation: a simple least-squares approach.\" The review of financial studies 14.1 (2001): 113-147.\n",
        "\n",
        "Hull, J.C. (2018). Options, Futures, and Other Derivatives. Pearson. (Black-Scholes model, Greeks, and volatility sensitivity chapters).\n",
        "\n",
        "WorldQuant University MScFE Curriculum - Module 3 & 4 notes:\n",
        "\n",
        "  Binomial/Trinomial Trees for option pricing lesson.\n",
        "Lesson on Black-Scholes Closed-form solutions.\n",
        "Lesson on Greeks (Delta and Vega calculations).\n",
        "\n",
        "Hull, J.C. (2018). Options, Futures, and Other Derivatives. Prentice-Hall. (Chapter 13-14: European Options, Greeks interpretation, and volatility measures).\n"
      ],
      "metadata": {
        "id": "JzgBJj4hkETr"
      }
    },
    {
      "cell_type": "markdown",
      "source": [],
      "metadata": {
        "id": "sAAGZIhkrre_"
      }
    },
    {
      "cell_type": "markdown",
      "source": [
        "# Appendix with code\n",
        "\n",
        "> Add blockquote\n",
        "\n"
      ],
      "metadata": {
        "id": "041mYABrZwiT"
      }
    },
    {
      "cell_type": "markdown",
      "source": [
        "## Step 1.1 code"
      ],
      "metadata": {
        "id": "Q1X5k_ad4lnG"
      }
    },
    {
      "cell_type": "code",
      "source": [
        "import numpy as np\n",
        "import pandas as pd\n",
        "import scipy.stats as si\n",
        "\n",
        "def black_scholes(S, K, T, r, sigma, option_type=\"call\"):\n",
        "    d1 = (np.log(S/K) + (r + 0.5 * sigma**2) * T) / (sigma * np.sqrt(T))\n",
        "    d2 = d1 - sigma * np.sqrt(T)\n",
        "\n",
        "    if option_type == \"call\":\n",
        "        return S * si.norm.cdf(d1) - K * np.exp(-r * T) * si.norm.cdf(d2)\n",
        "    elif option_type == \"put\":\n",
        "        return K * np.exp(-r * T) * si.norm.cdf(-d2) - S * si.norm.cdf(-d1)\n",
        "\n",
        "# Parameters\n",
        "S0, K, T, r, sigma = 100, 100, 3/12, 0.05, 0.2\n",
        "\n",
        "# Compute Prices\n",
        "bs_call_price = black_scholes(S0, K, T, r, sigma, \"call\")\n",
        "bs_put_price = black_scholes(S0, K, T, r, sigma, \"put\")\n",
        "\n",
        "bs_call_price, bs_put_price\n"
      ],
      "metadata": {
        "colab": {
          "base_uri": "https://localhost:8080/"
        },
        "id": "On6CxU6n47WC",
        "outputId": "7502182f-759b-40be-c586-c13da337927c"
      },
      "execution_count": null,
      "outputs": [
        {
          "output_type": "execute_result",
          "data": {
            "text/plain": [
              "(4.614997129602855, 3.372777178991008)"
            ]
          },
          "metadata": {},
          "execution_count": 17
        }
      ]
    },
    {
      "cell_type": "code",
      "source": [
        "def black_scholes_delta(S, K, T, r, sigma, option_type=\"call\"):\n",
        "    d1 = (np.log(S/K) + (r + 0.5 * sigma**2) * T) / (sigma * np.sqrt(T))\n",
        "\n",
        "    if option_type == \"call\":\n",
        "        return si.norm.cdf(d1)\n",
        "    elif option_type == \"put\":\n",
        "        return si.norm.cdf(d1) - 1\n",
        "\n",
        "# Compute Deltas\n",
        "delta_call = black_scholes_delta(S0, K, T, r, sigma, \"call\")\n",
        "delta_put = black_scholes_delta(S0, K, T, r, sigma, \"put\")\n",
        "\n",
        "delta_call, delta_put\n"
      ],
      "metadata": {
        "colab": {
          "base_uri": "https://localhost:8080/"
        },
        "id": "0ZIOeVkzgcyB",
        "outputId": "5fc365cf-5544-4485-c6ac-6538e7cdda3f"
      },
      "execution_count": null,
      "outputs": [
        {
          "output_type": "execute_result",
          "data": {
            "text/plain": [
              "(0.5694601832076737, -0.43053981679232634)"
            ]
          },
          "metadata": {},
          "execution_count": 18
        }
      ]
    },
    {
      "cell_type": "code",
      "source": [
        "def black_scholes_vega(S, K, T, r, sigma):\n",
        "    d1 = (np.log(S/K) + (r + 0.5 * sigma**2) * T) / (sigma * np.sqrt(T))\n",
        "    return S * np.sqrt(T) * si.norm.pdf(d1)\n",
        "\n",
        "# Compute Vega\n",
        "vega_value = black_scholes_vega(S0, K, T, r, sigma)\n",
        "\n",
        "vega_value\n"
      ],
      "metadata": {
        "colab": {
          "base_uri": "https://localhost:8080/"
        },
        "id": "dbZIkpnBgqY5",
        "outputId": "40dcbb68-43cc-4c45-fea1-f2a771c6f2dd"
      },
      "execution_count": null,
      "outputs": [
        {
          "output_type": "execute_result",
          "data": {
            "text/plain": [
              "19.644000472368965"
            ]
          },
          "metadata": {},
          "execution_count": 19
        }
      ]
    },
    {
      "cell_type": "markdown",
      "source": [
        "## Step 1.2 code\n",
        "\n"
      ],
      "metadata": {
        "id": "MZFf63T6Z1Dn"
      }
    },
    {
      "cell_type": "code",
      "execution_count": null,
      "metadata": {
        "colab": {
          "base_uri": "https://localhost:8080/",
          "height": 599
        },
        "id": "M3YCdT9rS6AR",
        "outputId": "c96ef1a7-d6fa-4cd0-c5c7-d004965961d2"
      },
      "outputs": [
        {
          "output_type": "stream",
          "name": "stdout",
          "text": [
            "Monte Carlo European Call Price: 4.59\n",
            "Monte Carlo European Put Price: 3.37\n"
          ]
        },
        {
          "output_type": "display_data",
          "data": {
            "text/plain": [
              "<Figure size 1000x600 with 1 Axes>"
            ],
            "image/png": "[encoded data removed]"
          },
          "metadata": {}
        }
      ],
      "source": [
        "import numpy as np\n",
        "import matplotlib.pyplot as plt\n",
        "from scipy.stats import norm\n",
        "\n",
        "S0 = 100\n",
        "K = 100\n",
        "r = 0.05\n",
        "sigma = 0.20\n",
        "T = 0.25\n",
        "N = 63    # daily steps: 252 * 0.25.  (we use here number of trading days)\n",
        "dt = T / N\n",
        "M = 100000  # number of simulations\n",
        "\n",
        "np.random.seed(42)\n",
        "\n",
        "X = np.zeros((M, N + 1))\n",
        "X[:, 0] = np.log(S0)\n",
        "for t in range(1, N + 1):\n",
        "    Z = np.random.standard_normal(M)\n",
        "    X[:, t] = X[:, t - 1] + (r - 0.5 * sigma**2) * dt + sigma * np.sqrt(dt) * Z\n",
        "\n",
        "\n",
        "convergence_prices = []\n",
        "\n",
        "for n in range(1000, M, 1000):\n",
        "    S_T = np.exp(X[:n, -1])\n",
        "\n",
        "    call_payoffs = np.maximum(S_T - K, 0)\n",
        "    put_payoffs = np.maximum(K - S_T, 0)\n",
        "\n",
        "    call_price = np.exp(-r * T) * np.mean(call_payoffs)\n",
        "    put_price = np.exp(-r * T) * np.mean(put_payoffs)\n",
        "\n",
        "    convergence_prices.append((n, call_price, put_price))\n",
        "\n",
        "print(f\"Monte Carlo European Call Price: {call_price:.2f}\")\n",
        "print(f\"Monte Carlo European Put Price: {put_price:.2f}\")\n",
        "\n",
        "\n",
        "num_simulations = [item[0] for item in convergence_prices]\n",
        "call_prices = [item[1] for item in convergence_prices]\n",
        "put_prices = [item[2] for item in convergence_prices]\n",
        "\n",
        "plt.figure(figsize=(10, 6))\n",
        "plt.plot(num_simulations, call_prices, label='Call Price')\n",
        "plt.plot(num_simulations, put_prices, label='Put Price')\n",
        "plt.xlabel('Number of Simulations')\n",
        "plt.ylabel('Option Price')\n",
        "plt.title('Convergence of Monte Carlo Option Prices')\n",
        "plt.legend()\n",
        "plt.grid(True)\n",
        "plt.show()"
      ]
    },
    {
      "cell_type": "markdown",
      "source": [
        "**For comparsion, exact BS solution:**"
      ],
      "metadata": {
        "id": "srwjLAAXdm-d"
      }
    },
    {
      "cell_type": "code",
      "source": [
        "\n",
        "d1 = (np.log(S0 / K) + (r + 0.5 * sigma**2) * T) / (sigma * np.sqrt(T))\n",
        "delta_call = norm.cdf(d1)\n",
        "delta_put = delta_call - 1\n",
        "\n",
        "print(f\"Call Delta: {delta_call:.2f}\")\n",
        "print(f\"Put Delta: {delta_put:.2f}\")"
      ],
      "metadata": {
        "colab": {
          "base_uri": "https://localhost:8080/"
        },
        "id": "2imiPx3uV0w7",
        "outputId": "290faf07-2226-4b05-9238-890975ea4c14"
      },
      "execution_count": null,
      "outputs": [
        {
          "output_type": "stream",
          "name": "stdout",
          "text": [
            "Call Delta: 0.57\n",
            "Put Delta: -0.43\n"
          ]
        }
      ]
    },
    {
      "cell_type": "code",
      "source": [
        "def bs_call_price(S, K, T, r, sigma):\n",
        "    d1 = (np.log(S / K) + (r + 0.5 * sigma**2) * T) / (sigma * np.sqrt(T))\n",
        "    d2 = d1 - sigma * np.sqrt(T)\n",
        "    return S*norm.cdf(d1) - K*np.exp(-r * T) * norm.cdf(d2)\n",
        "\n",
        "def bs_put_price(S, K, T, r, sigma):\n",
        "    d1 = (np.log(S / K) + (r + 0.5 * sigma**2) * T)/(sigma * np.sqrt(T))\n",
        "    d2 = d1 - sigma * np.sqrt(T)\n",
        "    return K * np.exp(-r*T) * norm.cdf(-d2) - S * norm.cdf(-d1)\n",
        "\n",
        "call_orig = bs_call_price(S0, K, T, r, sigma)\n",
        "put_orig = bs_put_price(S0, K, T, r, sigma)\n",
        "\n",
        "sigma_new = 0.25\n",
        "call_new = bs_call_price(S0, K, T, r, sigma_new)\n",
        "put_new = bs_put_price(S0, K, T, r, sigma_new)\n",
        "\n",
        "call_diff = call_new - call_orig\n",
        "put_diff = put_new - put_orig\n",
        "\n",
        "print(f\"Call Price Increase: {call_diff:.2f}\")\n",
        "print(f\"Put Price Increase: {put_diff:.2f}\")"
      ],
      "metadata": {
        "colab": {
          "base_uri": "https://localhost:8080/"
        },
        "id": "dC2SenjBa9gW",
        "outputId": "9233bf37-c10c-4981-caad-1fefb349d604"
      },
      "execution_count": null,
      "outputs": [
        {
          "output_type": "stream",
          "name": "stdout",
          "text": [
            "Call Price Increase: 0.98\n",
            "Put Price Increase: 0.98\n"
          ]
        }
      ]
    },
    {
      "cell_type": "markdown",
      "source": [
        "**Here we simulate vega and delta**"
      ],
      "metadata": {
        "id": "tYCKLIctdrMg"
      }
    },
    {
      "source": [
        "!pip install numpy\n",
        "import numpy as np\n",
        "from scipy.stats import norm\n",
        "\n",
        "def simulate_and_price(S0, sigma):\n",
        "    global Z  # Declare Z as global to modify it within the function\n",
        "\n",
        "    # Reshape Z if it's 1-dimensional\n",
        "    if Z.ndim == 1:\n",
        "        Z = Z.reshape(-1, 1)\n",
        "\n",
        "    # Simulate stock prices\n",
        "    S = S0 * np.exp(np.cumsum((r - 0.5 * sigma**2) * dt + sigma * np.sqrt(dt) * Z, axis=1))\n",
        "    S = np.hstack([np.full((M, 1), S0), S])\n",
        "\n",
        "    # Calculate option prices\n",
        "    ST = S[:, -1]\n",
        "    call_price = np.exp(-r * T) * np.mean(np.maximum(ST - K, 0))\n",
        "    put_price = np.exp(-r * T) * np.mean(np.maximum(K - ST, 0))\n",
        "\n",
        "    return call_price, put_price\n",
        "\n",
        "# Assuming these variables are defined somewhere before this cell:\n",
        "#  M, Z, r, dt, T, K\n",
        "\n",
        "# Example usage with your provided values:\n",
        "#  (You'll need to define M and Z appropriately for your simulation)\n",
        "#  r = 0.05\n",
        "#  dt = 0.003968253968253968\n",
        "#  T = 0.25\n",
        "#  K = 100\n",
        "\n",
        "C_100_20, P_100_20 = simulate_and_price(100, 0.20)\n",
        "C_101_20, P_101_20 = simulate_and_price(101, 0.20)\n",
        "C_100_21, P_100_21 = simulate_and_price(100, 0.21)\n",
        "C_100_25, P_100_25 = simulate_and_price(100, 0.25)\n",
        "\n",
        "\n",
        "\n",
        "Delta_call = C_101_20 - C_100_20\n",
        "Delta_put = P_101_20 - P_100_20\n",
        "Vega_call = (C_100_21 - C_100_20) / 0.01\n",
        "Vega_put = (P_100_21 - P_100_20) / 0.01\n",
        "call_price_change = C_100_25 - C_100_20\n",
        "put_price_change = P_100_25 - P_100_20\n",
        "\n",
        "print(f\"Call Price (S0=100, sigma=0.20): {C_100_20:.4f}\")\n",
        "print(f\"Put Price (S0=100, sigma=0.20): {P_100_20:.4f}\")\n",
        "print(f\"Delta for Call: {Delta_call:.4f}\")\n",
        "print(f\"Delta for Put: {Delta_put:.4f}\")\n",
        "print(f\"Vega for Call (per 1%): {Vega_call:.4f}\")\n",
        "print(f\"Vega for Put (per 1%): {Vega_put:.4f}\")\n",
        "print(f\"Call Price Change (sigma 0.20 to 0.25): {call_price_change:.4f}\")\n",
        "print(f\"Put Price Change (sigma 0.20 to 0.25): {put_price_change:.4f}\")"
      ],
      "cell_type": "code",
      "metadata": {
        "colab": {
          "base_uri": "https://localhost:8080/"
        },
        "id": "Fde5ZSKVmhsX",
        "outputId": "43a7f251-ae06-48d8-c049-b34e2c9bc1d1"
      },
      "execution_count": null,
      "outputs": [
        {
          "output_type": "stream",
          "name": "stdout",
          "text": [
            "Requirement already satisfied: numpy in /usr/local/lib/python3.11/dist-packages (1.26.4)\n",
            "Call Price (S0=100, sigma=0.20): 0.5059\n",
            "Put Price (S0=100, sigma=0.20): 0.4860\n",
            "Delta for Call: 0.6503\n",
            "Delta for Put: -0.3375\n",
            "Vega for Call (per 1%): 2.4800\n",
            "Vega for Put (per 1%): 2.4786\n",
            "Call Price Change (sigma 0.20 to 0.25): 0.1240\n",
            "Put Price Change (sigma 0.20 to 0.25): 0.1239\n"
          ]
        }
      ]
    },
    {
      "cell_type": "markdown",
      "source": [
        "#Step 1.3 code"
      ],
      "metadata": {
        "id": "uDisv0VoGxZx"
      }
    },
    {
      "cell_type": "code",
      "source": [
        "import numpy as np\n",
        "import matplotlib.pyplot as plt\n",
        "\n",
        "# Black-Scholes Prices (from the uploaded document)\n",
        "bs_call_price = 4.61\n",
        "bs_put_price = 3.37\n",
        "\n",
        "# Monte Carlo Prices (from the uploaded document)\n",
        "mc_call_price = 4.59\n",
        "mc_put_price = 3.37\n",
        "\n",
        "# Parameters\n",
        "S0, K, T, r = 100, 100, 0.25, 0.05\n",
        "\n",
        "# Function to check Put-Call Parity\n",
        "def check_put_call_parity(call_price, put_price, S0, K, T, r):\n",
        "    lhs = call_price - put_price  # Left-hand side of the parity equation\n",
        "    rhs = S0 - K * np.exp(-r * T)  # Right-hand side of the parity equation\n",
        "    return lhs, rhs\n",
        "\n",
        "# Check Put-Call Parity for Black-Scholes\n",
        "bs_lhs, bs_rhs = check_put_call_parity(bs_call_price, bs_put_price, S0, K, T, r)\n",
        "print(f\"Black-Scholes Put-Call Parity Check:\")\n",
        "print(f\"Call - Put = {bs_lhs:.2f}, S0 - K*exp(-rT) = {bs_rhs:.2f}\")\n",
        "print(f\"Parity Holds: {np.isclose(bs_lhs, bs_rhs, atol=0.01)}\\n\")\n",
        "\n",
        "# Check Put-Call Parity for Monte Carlo\n",
        "mc_lhs, mc_rhs = check_put_call_parity(mc_call_price, mc_put_price, S0, K, T, r)\n",
        "print(f\"Monte Carlo Put-Call Parity Check:\")\n",
        "print(f\"Call - Put = {mc_lhs:.2f}, S0 - K*exp(-rT) = {mc_rhs:.2f}\")\n",
        "print(f\"Parity Holds: {np.isclose(mc_lhs, mc_rhs, atol=0.01)}\\n\")\n",
        "\n",
        "# Compare BS and MC Prices\n",
        "print(f\"Black-Scholes Call Price: {bs_call_price:.2f}, Monte Carlo Call Price: {mc_call_price:.2f}\")\n",
        "print(f\"Black-Scholes Put Price: {bs_put_price:.2f}, Monte Carlo Put Price: {mc_put_price:.2f}\")"
      ],
      "metadata": {
        "id": "eKtQfdyg9gzw",
        "colab": {
          "base_uri": "https://localhost:8080/"
        },
        "outputId": "9c9ce3c3-c598-4290-fb57-13462b499226"
      },
      "execution_count": null,
      "outputs": [
        {
          "output_type": "stream",
          "name": "stdout",
          "text": [
            "Black-Scholes Put-Call Parity Check:\n",
            "Call - Put = 1.24, S0 - K*exp(-rT) = 1.24\n",
            "Parity Holds: True\n",
            "\n",
            "Monte Carlo Put-Call Parity Check:\n",
            "Call - Put = 1.22, S0 - K*exp(-rT) = 1.24\n",
            "Parity Holds: False\n",
            "\n",
            "Black-Scholes Call Price: 4.61, Monte Carlo Call Price: 4.59\n",
            "Black-Scholes Put Price: 3.37, Monte Carlo Put Price: 3.37\n"
          ]
        }
      ]
    },
    {
      "cell_type": "code",
      "source": [
        "import numpy as np\n",
        "\n",
        "def monte_carlo_american_call(S, K, T, r, sigma, simulations=100000, steps=252):\n",
        "    dt = T / steps  # Daily time-step\n",
        "    np.random.seed(42)  # Reproducibility\n",
        "    payoff = np.zeros(simulations)\n",
        "\n",
        "    for i in range(simulations):\n",
        "        path = np.zeros(steps + 1)\n",
        "        path[0] = S\n",
        "        for t in range(1, steps + 1):\n",
        "            Z = np.random.standard_normal()\n",
        "            path[t] = path[t - 1] * np.exp((r - 0.5 * sigma**2) * dt + sigma * np.sqrt(dt) * Z)\n",
        "\n",
        "        payoff[i] = max(path[-1] - K, 0)  # Payoff at expiration\n",
        "\n",
        "    return np.exp(-r * T) * np.mean(payoff)  # Discounted expected payoff\n",
        "\n",
        "# Compute American Call Price\n",
        "am_call_price = monte_carlo_american_call(S0, K, T, r, sigma)\n",
        "\n",
        "am_call_price\n"
      ],
      "metadata": {
        "colab": {
          "base_uri": "https://localhost:8080/"
        },
        "id": "FiDXLMPFhsUY",
        "outputId": "532a3144-1d30-41fe-c840-403f5b5a0e35"
      },
      "execution_count": null,
      "outputs": [
        {
          "output_type": "execute_result",
          "data": {
            "text/plain": [
              "4.59120473209535"
            ]
          },
          "metadata": {},
          "execution_count": 22
        }
      ]
    },
    {
      "cell_type": "code",
      "source": [
        "epsilon = 1  # Small price change for numerical estimation\n",
        "\n",
        "# Compute Delta using finite difference method\n",
        "delta_call = (monte_carlo_american_call(S0 + epsilon, K, T, r, sigma) -\n",
        "              monte_carlo_american_call(S0 - epsilon, K, T, r, sigma)) / (2 * epsilon)\n",
        "\n",
        "delta_call\n"
      ],
      "metadata": {
        "colab": {
          "base_uri": "https://localhost:8080/"
        },
        "id": "6TlpO4cBh_38",
        "outputId": "4ce71bc3-6954-4026-ed92-b6066b782b58"
      },
      "execution_count": null,
      "outputs": [
        {
          "output_type": "execute_result",
          "data": {
            "text/plain": [
              "0.569792983093603"
            ]
          },
          "metadata": {},
          "execution_count": 23
        }
      ]
    },
    {
      "cell_type": "code",
      "source": [
        "epsilon_vol = 0.01  # Small volatility change\n",
        "\n",
        "# Compute Vega using finite difference method\n",
        "vega_call = (monte_carlo_american_call(S0, K, T, r, sigma + epsilon_vol) -\n",
        "             monte_carlo_american_call(S0, K, T, r, sigma - epsilon_vol)) / (2 * epsilon_vol)\n",
        "\n",
        "vega_call\n"
      ],
      "metadata": {
        "colab": {
          "base_uri": "https://localhost:8080/"
        },
        "id": "9a-WrTTWiM4X",
        "outputId": "78e8b1a0-d4ed-4a47-c676-5e5ecdba9dd9"
      },
      "execution_count": null,
      "outputs": [
        {
          "output_type": "execute_result",
          "data": {
            "text/plain": [
              "19.50488127440928"
            ]
          },
          "metadata": {},
          "execution_count": 24
        }
      ]
    },
    {
      "cell_type": "markdown",
      "source": [
        "## Step 2.5 code\n"
      ],
      "metadata": {
        "id": "LW_ku1JZgR3J"
      }
    },
    {
      "source": [
        "import numpy as np\n",
        "\n",
        "def monte_carlo_american_call(S0, K, T, r, sigma):\n",
        "    \"\"\"\n",
        "    Prices an American call option using the Longstaff-Schwartz algorithm.\n",
        "\n",
        "    Parameters:\n",
        "    S0 (float): Initial stock price\n",
        "    K (float): Strike price\n",
        "    T (float): Time to maturity (in years)\n",
        "    r (float): Risk-free interest rate\n",
        "    sigma (float): Volatility\n",
        "\n",
        "    Returns:\n",
        "    float: Estimated price of the American call option\n",
        "    \"\"\"\n",
        "\n",
        "    M = 1000  # Number of paths\n",
        "    N = 50  # Number of time steps\n",
        "    dt = T / N  # Time step size\n",
        "    df = np.exp(-r * dt)  # Discount factor\n",
        "\n",
        "    # Generate random numbers\n",
        "    Z = np.random.standard_normal((M, N))\n",
        "\n",
        "    # Simulate stock price paths\n",
        "    S = np.zeros((M, N + 1))\n",
        "    S[:, 0] = S0\n",
        "    for t in range(1, N + 1):\n",
        "        S[:, t] = S[:, t - 1] * np.exp((r - 0.5 * sigma**2) * dt + sigma * np.sqrt(dt) * Z[:, t - 1])\n",
        "\n",
        "    # Initialize exercise matrix\n",
        "    exercise_time = np.zeros(M, dtype=int)\n",
        "\n",
        "    # Backward induction to determine optimal exercise time\n",
        "    for t in range(N - 1, 0, -1):\n",
        "        in_the_money = S[:, t] > K\n",
        "        if np.any(in_the_money):\n",
        "            X = S[in_the_money, t]\n",
        "            Y = np.maximum(S[in_the_money, N] - K, 0) * df**(N - t)\n",
        "\n",
        "            # LS regression approach to estimate continuation value\n",
        "            A = np.vstack([np.ones_like(X), X, X**2]).T\n",
        "            beta = np.linalg.lstsq(A, Y, rcond=None)[0]\n",
        "            continuation_value = A @ beta\n",
        "\n",
        "            # Exercise if immediate payoff is greater than continuation value\n",
        "            exercise_now = np.maximum(X - K, 0) > continuation_value\n",
        "            exercise_time[in_the_money] = np.where(exercise_now, t, exercise_time[in_the_money])\n",
        "\n",
        "    # Calculate option payoff at optimal exercise time\n",
        "    payoff = np.maximum(S[np.arange(M), exercise_time] - K, 0) * df**exercise_time\n",
        "\n",
        "    # Estimate option price as average discounted payoff\n",
        "    option_price = np.mean(payoff)\n",
        "\n",
        "    return option_price"
      ],
      "cell_type": "code",
      "metadata": {
        "id": "LurTyApslBrk"
      },
      "execution_count": null,
      "outputs": []
    },
    {
      "source": [
        "epsilon = 1  # Small price change for numerical estimation\n",
        "\n",
        "# Compute Delta using finite difference method\n",
        "delta_call = (monte_carlo_american_call(S0 + epsilon, K, T, r, sigma) -\n",
        "              monte_carlo_american_call(S0 - epsilon, K, T, r, sigma)) / (2 * epsilon)\n",
        "\n",
        "delta_call"
      ],
      "cell_type": "code",
      "metadata": {
        "colab": {
          "base_uri": "https://localhost:8080/"
        },
        "id": "Rj2w5BVglDQ8",
        "outputId": "fe890abf-74d7-443e-9027-38a5f45d4581"
      },
      "execution_count": null,
      "outputs": [
        {
          "output_type": "execute_result",
          "data": {
            "text/plain": [
              "0.6434041720460417"
            ]
          },
          "metadata": {},
          "execution_count": 13
        }
      ]
    },
    {
      "source": [
        "epsilon_vol = 0.01  # Small volatility change\n",
        "\n",
        "# Compute Vega using finite difference method\n",
        "vega_call = (monte_carlo_american_call(S0, K, T, r, sigma + epsilon_vol) -\n",
        "             monte_carlo_american_call(S0, K, T, r, sigma - epsilon_vol)) / (2 * epsilon_vol)\n",
        "\n",
        "vega_call"
      ],
      "cell_type": "code",
      "metadata": {
        "colab": {
          "base_uri": "https://localhost:8080/"
        },
        "id": "dZ_2qDe3lEkr",
        "outputId": "db0c9e16-8af7-4276-8d27-6f5bd4db28eb"
      },
      "execution_count": null,
      "outputs": [
        {
          "output_type": "execute_result",
          "data": {
            "text/plain": [
              "59.024725812215024"
            ]
          },
          "metadata": {},
          "execution_count": 14
        }
      ]
    },
    {
      "cell_type": "markdown",
      "source": [
        "#STEP 2.6"
      ],
      "metadata": {
        "id": "qGaGY24YBUt0"
      }
    },
    {
      "cell_type": "code",
      "source": [
        "import numpy as np\n",
        "import matplotlib.pyplot as plt\n",
        "\n",
        "# Given parameters\n",
        "S0 = 100  # Initial stock price\n",
        "r = 0.05  # Risk-free rate\n",
        "sigma = 0.20  # Volatility\n",
        "T = 3 / 12  # Time to maturity (in years)\n",
        "N = 63  # Reduce number of time steps to 63 (daily for 3 months)\n",
        "M = 10000  # Reduce number of simulations to 10,000 for faster execution\n",
        "dt = T / N  # Time step size\n",
        "\n",
        "def monte_carlo_american_call(S, K, T, r, sigma, simulations=M, steps=N):\n",
        "    dt = T / steps\n",
        "    np.random.seed(42)\n",
        "    payoff = np.zeros(simulations)\n",
        "    for i in range(simulations):\n",
        "        path = S * np.exp(np.cumsum((r - 0.5 * sigma**2) * dt + sigma * np.sqrt(dt) * np.random.standard_normal(steps)))\n",
        "        payoff[i] = max(path[-1] - K, 0)\n",
        "    return np.exp(-r * T) * np.mean(payoff)\n",
        "\n",
        "def monte_carlo_american_put(S, K, T, r, sigma, simulations=M, steps=N):\n",
        "    dt = T / steps\n",
        "    np.random.seed(42)\n",
        "    payoff = np.zeros(simulations)\n",
        "    for i in range(simulations):\n",
        "        path = S * np.exp(np.cumsum((r - 0.5 * sigma**2) * dt + sigma * np.sqrt(dt) * np.random.standard_normal(steps)))\n",
        "        payoff[i] = max(K - path[-1], 0)\n",
        "    return np.exp(-r * T) * np.mean(payoff)\n",
        "\n",
        "# Define five different moneyness levels\n",
        "moneyness_levels = [0.90, 0.95, 1.00, 1.05, 1.10]\n",
        "call_prices = []\n",
        "put_prices = []\n",
        "\n",
        "for m in moneyness_levels:\n",
        "    K_m = S0 * m\n",
        "    call_prices.append(monte_carlo_american_call(S0, K_m, T, r, sigma))\n",
        "    put_prices.append(monte_carlo_american_put(S0, K_m, T, r, sigma))\n",
        "\n",
        "# Plot Results\n",
        "plt.figure(figsize=(10, 5))\n",
        "plt.plot(moneyness_levels, call_prices, label=\"American Call Price\", marker='o')\n",
        "plt.plot(moneyness_levels, put_prices, label=\"American Put Price\", marker='s')\n",
        "plt.xlabel(\"Moneyness (Strike Price / Initial Price)\")\n",
        "plt.ylabel(\"Option Price\")\n",
        "plt.title(\"American Option Prices vs. Moneyness\")\n",
        "plt.legend()\n",
        "plt.grid(True)\n",
        "plt.show()"
      ],
      "metadata": {
        "colab": {
          "base_uri": "https://localhost:8080/",
          "height": 487
        },
        "id": "tTV0GUczBTkA",
        "outputId": "29fccf18-2953-4a6b-f99c-010d3be3c31b"
      },
      "execution_count": null,
      "outputs": [
        {
          "output_type": "display_data",
          "data": {
            "text/plain": [
              "<Figure size 1000x500 with 1 Axes>"
            ],
            "image/png": "[encoded data removed]"
          },
          "metadata": {}
        }
      ]
    },
    {
      "cell_type": "markdown",
      "source": [],
      "metadata": {
        "id": "cvAPnVjigJ5B"
      }
    },
    {
      "source": [
        "# Step 3: Hedging Under Black-Scholes for European Options\n",
        "import numpy as np  # Import numpy and assign it the alias 'np'\n",
        "import scipy.stats as si  # Import scipy.stats and assign it the alias 'si'\n",
        "\n",
        "# Given Parameters\n",
        "S0 = 100  # Initial stock price\n",
        "T = 3 / 12  # 3 months maturity (in years)\n",
        "r = 0.05  # Risk-free rate (5% annually)\n",
        "sigma = 0.2  # Volatility (20% annually)\n",
        "\n",
        "# Strike Prices for Different Moneyness Levels\n",
        "K_call = 1.1 * S0  # 110% moneyness for Call option\n",
        "K_put = 0.95 * S0  # 95% moneyness for Put option\n",
        "\n",
        "# Function for Black-Scholes pricing\n",
        "def black_scholes_price(S, K, T, r, sigma, option_type=\"call\"):\n",
        "    d1 = (np.log(S / K) + (r + 0.5 * sigma**2) * T) / (sigma * np.sqrt(T))\n",
        "    d2 = d1 - sigma * np.sqrt(T)\n",
        "\n",
        "    if option_type == \"call\":\n",
        "        return S * si.norm.cdf(d1) - K * np.exp(-r * T) * si.norm.cdf(d2)\n",
        "    elif option_type == \"put\":\n",
        "        return K * np.exp(-r * T) * si.norm.cdf(-d2) - S * si.norm.cdf(-d1)\n",
        "\n",
        "# Compute Option Prices\n",
        "bs_call_110 = black_scholes_price(S0, K_call, T, r, sigma, \"call\")\n",
        "bs_put_95 = black_scholes_price(S0, K_put, T, r, sigma, \"put\")\n",
        "\n",
        "# Function for Black-Scholes Delta\n",
        "def black_scholes_delta(S, K, T, r, sigma, option_type=\"call\"):\n",
        "    d1 = (np.log(S / K) + (r + 0.5 * sigma**2) * T) / (sigma * np.sqrt(T))\n",
        "\n",
        "    if option_type == \"call\":\n",
        "        return si.norm.cdf(d1)\n",
        "    elif option_type == \"put\":\n",
        "        return si.norm.cdf(d1) - 1\n",
        "\n",
        "# Compute Deltas\n",
        "delta_call_110 = black_scholes_delta(S0, K_call, T, r, sigma, \"call\")\n",
        "delta_put_95 = black_scholes_delta(S0, K_put, T, r, sigma, \"put\")\n",
        "\n",
        "# Portfolio 1: Buying Both Call and Put\n",
        "portfolio_1_delta = delta_call_110 + delta_put_95\n",
        "\n",
        "# Portfolio 2: Buying the Call and Selling the Put\n",
        "portfolio_2_delta = delta_call_110 - delta_put_95\n",
        "\n",
        "# Display Results\n",
        "results = {\n",
        "    \"European Call Price (110% Moneyness)\": bs_call_110,\n",
        "    \"European Put Price (95% Moneyness)\": bs_put_95,\n",
        "    \"Call Delta (110% Moneyness)\": delta_call_110,\n",
        "    \"Put Delta (95% Moneyness)\": delta_put_95,\n",
        "    \"Portfolio 1 Delta (Buy Call & Put)\": portfolio_1_delta,\n",
        "    \"Portfolio 2 Delta (Buy Call, Sell Put)\": portfolio_2_delta,\n",
        "}\n",
        "\n",
        "results"
      ],
      "cell_type": "code",
      "metadata": {
        "colab": {
          "base_uri": "https://localhost:8080/"
        },
        "id": "TTkZ5euzkTRq",
        "outputId": "8c766096-289f-43d8-f510-c5ca28fd66e4"
      },
      "execution_count": null,
      "outputs": [
        {
          "output_type": "execute_result",
          "data": {
            "text/plain": [
              "{'European Call Price (110% Moneyness)': 1.1911316636130636,\n",
              " 'European Put Price (95% Moneyness)': 1.5342604771222845,\n",
              " 'Call Delta (110% Moneyness)': 0.21825450140567343,\n",
              " 'Put Delta (95% Moneyness)': -0.24574750481397367,\n",
              " 'Portfolio 1 Delta (Buy Call & Put)': -0.027493003408300243,\n",
              " 'Portfolio 2 Delta (Buy Call, Sell Put)': 0.4640020062196471}"
            ]
          },
          "metadata": {},
          "execution_count": 8
        }
      ]
    },
    {
      "cell_type": "markdown",
      "source": [
        "# STEP 3.7 CODE"
      ],
      "metadata": {
        "id": "OgNBrg0jj2nu"
      }
    },
    {
      "cell_type": "code",
      "source": [
        "import numpy as np\n",
        "import scipy.stats as si\n",
        "\n",
        "# Parameters\n",
        "S0 = 100       # Initial stock price\n",
        "T = 3 / 12     # Maturity: 3 months\n",
        "r = 0.05       # Risk-free rate (annual)\n",
        "sigma = 0.2    # Volatility (annual)\n",
        "\n",
        "# Strike Prices\n",
        "K_call = 1.1 * S0   # 110% moneyness Call\n",
        "K_put = 0.95 * S0   # 95% moneyness Put\n",
        "\n",
        "# Black-Scholes pricing function\n",
        "def black_scholes_price(S, K, T, r, sigma, option_type=\"call\"):\n",
        "    d1 = (np.log(S/K) + (r + 0.5 * sigma**2) * T) / (sigma * np.sqrt(T))\n",
        "    d2 = d1 - sigma * np.sqrt(T)\n",
        "\n",
        "    if option_type == \"call\":\n",
        "        return S * si.norm.cdf(d1) - K * np.exp(-r * T) * si.norm.cdf(d2)\n",
        "    elif option_type == \"put\":\n",
        "        return K * np.exp(-r * T) * si.norm.cdf(-d2) - S * si.norm.cdf(-d1)\n",
        "\n",
        "# Black-Scholes Delta function\n",
        "def black_scholes_delta(S, K, T, r, sigma, option_type=\"call\"):\n",
        "    d1 = (np.log(S/K) + (r + 0.5 * sigma**2) * T) / (sigma * np.sqrt(T))\n",
        "\n",
        "    if option_type == \"call\":\n",
        "        return si.norm.cdf(d1)\n",
        "    elif option_type == \"put\":\n",
        "        return si.norm.cdf(d1) - 1\n",
        "\n",
        "# Calculations\n",
        "call_price = black_scholes_price(S0, K_call, T, r, sigma, \"call\")\n",
        "put_price = black_scholes_price(S0, K_put, T, r, sigma, \"put\")\n",
        "\n",
        "call_delta = black_scholes_delta(S0, K_call, T, r, sigma, \"call\")\n",
        "put_delta = black_scholes_delta(S0, K_put, T, r, sigma, \"put\")\n",
        "\n",
        "# Portfolio Deltas\n",
        "portfolio1_delta = call_delta + put_delta\n",
        "portfolio2_delta = call_delta - put_delta\n",
        "\n",
        "# Results\n",
        "results = {\n",
        "    \"European Call Price (110% Moneyness)\": round(call_price, 2),\n",
        "    \"European Put Price (95% Moneyness)\": round(put_price, 2),\n",
        "    \"Call Delta (110% Moneyness)\": round(call_delta, 3),\n",
        "    \"Put Delta (95% Moneyness)\": round(put_delta, 3),\n",
        "    \"Portfolio 1 Delta (Buy Call & Put)\": round(portfolio1_delta, 3),\n",
        "    \"Portfolio 2 Delta (Buy Call, Sell Put)\": round(portfolio2_delta, 3)\n",
        "}\n",
        "\n",
        "for key, value in results.items():\n",
        "    print(f\"{key}: {value}\")\n"
      ],
      "metadata": {
        "colab": {
          "base_uri": "https://localhost:8080/"
        },
        "id": "blTrMXXrj0q4",
        "outputId": "9f450918-6869-474b-d6b8-6564a4712288"
      },
      "execution_count": null,
      "outputs": [
        {
          "output_type": "stream",
          "name": "stdout",
          "text": [
            "European Call Price (110% Moneyness): 1.19\n",
            "European Put Price (95% Moneyness): 1.53\n",
            "Call Delta (110% Moneyness): 0.218\n",
            "Put Delta (95% Moneyness): -0.246\n",
            "Portfolio 1 Delta (Buy Call & Put): -0.027\n",
            "Portfolio 2 Delta (Buy Call, Sell Put): 0.464\n"
          ]
        }
      ]
    },
    {
      "cell_type": "markdown",
      "source": [
        "## Step 3.8 code"
      ],
      "metadata": {
        "id": "k8PIoyFZLkVB"
      }
    },
    {
      "cell_type": "code",
      "source": [
        "S0 = 120\n",
        "K = 120\n",
        "barrier = 141\n",
        "r = 0.06\n",
        "sigma = 0.30\n",
        "T = 8 / 12\n",
        "N = int(np.round(T * 252))\n",
        "dt = T / N\n",
        "M = 100000\n",
        "\n",
        "np.random.seed(42)\n",
        "\n",
        "Z = np.random.normal(size=(M, N))\n",
        "\n",
        "S = np.zeros((M, N + 1))\n",
        "S[:, 0] = S0\n",
        "\n",
        "for t in range(N):\n",
        "    S[:, t + 1] = S[:, t] * np.exp((r - 0.5 * sigma**2) * dt + sigma * np.sqrt(dt) * Z[:, t])\n",
        "\n",
        "max_S = np.max(S, axis=1)\n",
        "# the only difference to vanilla European: payoff becomes zero if we go over the barrier\n",
        "payoff = np.where(max_S >= barrier, 0, np.maximum(S[:, N] - K, 0))\n",
        "\n",
        "discount_factor = np.exp(-r * T)\n",
        "price = np.mean(payoff) * discount_factor\n",
        "std_err = np.std(payoff) / np.sqrt(M) * discount_factor\n",
        "\n",
        "print(f\"Up-and-Out Call Option Price: {price:.4f}, Standard Error: {std_err:.4f}\")"
      ],
      "metadata": {
        "colab": {
          "base_uri": "https://localhost:8080/"
        },
        "id": "HooDyW9vLmZq",
        "outputId": "42084261-d51b-4def-be4c-b0df348661e7"
      },
      "execution_count": null,
      "outputs": [
        {
          "output_type": "stream",
          "name": "stdout",
          "text": [
            "Up-and-Out Call Option Price: 0.7172, Standard Error: 0.0085\n"
          ]
        }
      ]
    },
    {
      "cell_type": "markdown",
      "source": [
        "#Step3.9"
      ],
      "metadata": {
        "id": "0EoSPKdTBBu0"
      }
    },
    {
      "cell_type": "code",
      "source": [
        "import numpy as np\n",
        "\n",
        "# Given parameters\n",
        "S0 = 120  # Initial stock price\n",
        "K = 120   # Strike price\n",
        "barrier = 141  # Barrier level\n",
        "r = 0.06  # Risk-free rate\n",
        "sigma = 0.30  # Volatility\n",
        "T = 8 / 12  # Time to maturity (in years)\n",
        "N = int(np.round(T * 252))  # Number of time steps\n",
        "M = 100000  # Number of simulations\n",
        "dt = T / N  # Time step size\n",
        "\n",
        "np.random.seed(42)\n",
        "# Generating Monte Carlo paths\n",
        "Z = np.random.normal(size=(M, N))\n",
        "S = np.zeros((M, N + 1))\n",
        "S[:, 0] = S0\n",
        "\n",
        "for t in range(N):\n",
        "    S[:, t + 1] = S[:, t] * np.exp((r - 0.5 * sigma**2) * dt + sigma * np.sqrt(dt) * Z[:, t])\n",
        "\n",
        "max_S = np.max(S, axis=1)\n",
        "\n",
        "# Computing prices\n",
        "# Up-and-In Call\n",
        "payoff_uai = np.where(max_S >= barrier, np.maximum(S[:, -1] - K, 0), 0)\n",
        "price_uai = np.exp(-r * T) * np.mean(payoff_uai)\n",
        "\n",
        "# Vanilla European Call (No barrier)\n",
        "payoff_vanilla = np.maximum(S[:, -1] - K, 0)\n",
        "price_vanilla = np.exp(-r * T) * np.mean(payoff_vanilla)\n",
        "\n",
        "\n",
        "price_uao = 0.71\n",
        "\n",
        "# Print results\n",
        "print(f\"Up-and-In Call Option Price: {price_uai:.4f}\")\n",
        "print(f\"Up-and-Out Call Option Price: {price_uao:.4f}\")\n",
        "print(f\"Vanilla European Call Option Price: {price_vanilla:.4f}\")"
      ],
      "metadata": {
        "id": "XHNaCITnLn_W",
        "colab": {
          "base_uri": "https://localhost:8080/"
        },
        "outputId": "2b8d2dd3-a897-44d1-9ca4-22cbb9231927"
      },
      "execution_count": null,
      "outputs": [
        {
          "output_type": "stream",
          "name": "stdout",
          "text": [
            "Up-and-In Call Option Price: 13.2131\n",
            "Up-and-Out Call Option Price: 0.7100\n",
            "Vanilla European Call Option Price: 13.9303\n"
          ]
        }
      ]
    }
  ]
}