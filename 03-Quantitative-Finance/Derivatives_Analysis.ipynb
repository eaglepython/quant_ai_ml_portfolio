{
  "nbformat": 4,
  "nbformat_minor": 0,
  "metadata": {
    "colab": {
      "provenance": []
    },
    "kernelspec": {
      "name": "python3",
      "display_name": "Python 3"
    },
    "language_info": {
      "name": "python"
    }
  },
  "cells": [
    {
      "cell_type": "markdown",
      "source": [
        "In this project, We will present advanced option pricing techniques via the Heston Stochastic Volatility Model and the Merton Jump Diffusion Model. The former model and the latter are superior to the Black-Scholes model because they have stochastic volatility and asset price jumps, respectively. Our objectives are to value European and American options, approximate their sensitivities (Greeks), and verify results using put-call parity. Barrier options will be addressed as we gain knowledge on their behavior and valuation."
      ],
      "metadata": {
        "id": "3bb-xeaUTYz7"
      }
    },
    {
      "cell_type": "markdown",
      "source": [
        "## Step 1.5: Stochastic Volatility Modeler\n",
        "  \n",
        "### Heston Model Pricing (Correlation = -0.30)\n",
        "\n",
        "***Objective:***\n",
        " Price an **ATM European call and put** using the Heston model with a correlation of -0.30.\n",
        "\n",
        "using the parameters given:\n",
        "\n",
        "### Heston Model SDEs:\n",
        "\n",
        "  1.Stock Price:\n",
        "   $dS_t = rS_td_t +\\sqrt{v_t}S_tdZ_1$\n",
        "  \n",
        "2.Variance:\n",
        "$dν_t =κ(θ−ν_t)dt + σ\\sqrt{v_t}dZ_2$\n",
        "\n",
        "\n",
        "where $dZ1$​ and $dZ2$​ are correlated Wiener processes with $ρ$ = −0.30."
      ],
      "metadata": {
        "id": "ydPxZHv5UUxR"
      }
    },
    {
      "cell_type": "markdown",
      "source": [
        "### Monte Carlo Simulation:\n",
        "\n",
        " a) we discretize time into N=50 steps:\n",
        "\n",
        " b) then simulate variance paths using **Euler-Maruyama** :\n",
        "   $ν_{t+1} = ν_t +κ(θ−ν_t)Δt + σ\\sqrt{v_t} \\sqrt{\\Delta t}ϵ_2$\n",
        "\n",
        " c) Simulate stock price paths:\n",
        "$S_{t+1} = S_texp⁡((r−\\frac{v_t}{2})Δt +\\sqrt{v_t} \\sqrt{\\Delta t}ϵ_1)$\n",
        "\n",
        "\n",
        "where $ϵ_1$​ and $ϵ_2$​ are correlated standard normal variables."
      ],
      "metadata": {
        "id": "oV9cWuaGWRcj"
      }
    },
    {
      "cell_type": "markdown",
      "source": [
        "### Option Pricing:\n",
        "\n",
        "   Call Price:\n",
        "   $C=e^{−rT}\\frac{1}{N}∑{i=1,N}[max⁡(S{(i->T)}−K,0)]$\n",
        "  \n",
        "\n",
        "   Put Price:\n",
        "  $P=e^{−rT}\\frac{1}{N}∑{i=1,N}[max⁡(S{(i->T)},0)]$\n",
        ""
      ],
      "metadata": {
        "id": "W0yK8blaWoYY"
      }
    },
    {
      "cell_type": "markdown",
      "source": [
        "**Results:**\n",
        "\n",
        "  Call Price: $3.50\n",
        "\n",
        "  Put Price: $2.37\n",
        "\n",
        "***Interpretation:***\n",
        "\n",
        "  The call price of $3.50 is the modelled payoff of the option in the Heston model with correlation -0.30, considering stochastic volatility and mean reversion.\n",
        "\n",
        "The put price of $2.37 is higher than that of the Black-Scholes model since the additional downside risk owing to negative correlation and stochastic volatility."
      ],
      "metadata": {
        "id": "-4ZYBThgW2Tx"
      }
    },
    {
      "cell_type": "markdown",
      "source": [
        "## Step 1.6: Heston Model Pricing (Correlation = -0.70)\n",
        "\n",
        "***Objective:***\n",
        "Price an ATM European call and put using the Heston model with a correlation of -0.70.\n",
        "\n",
        "Parameters:\n",
        " Same as Task 5, but ρ=−0.70."
      ],
      "metadata": {
        "id": "lYHwn4A_YoDl"
      }
    },
    {
      "cell_type": "markdown",
      "source": [
        "***Results:***\n",
        "\n",
        "  Call Price: $3.49\n",
        "\n",
        "  Put Price: $2.43\n",
        "\n",
        "***Interpretation:***\n",
        "\n",
        "  The $3.49 call price is less than in Task 1.5 due to the more negative correlation (-0.70), which reduces the chance of rising prices.\n",
        "\n",
        "The $2.43 put price is greater than in Task 1.5, reflecting greater downside risk from the increased volatility asymmetry caused by the more negative correlation.\n",
        "\n",
        "This shows the effect of correlation on option prices, where greater negative correlation benefits put options compared to calls.\n",
        "\n"
      ],
      "metadata": {
        "id": "JVa5s8mDYvSL"
      }
    },
    {
      "cell_type": "markdown",
      "source": [
        "## Step 1.7: Delta and Gamma Calculation\n",
        "\n",
        "***Objective:***\n",
        "Calculate delta and gamma for the options priced in $Step1_5$ and $1_6$."
      ],
      "metadata": {
        "id": "QCZcUSenY34f"
      }
    },
    {
      "cell_type": "markdown",
      "source": [
        "***Results:***\n",
        "\n",
        "  Call Delta: 0.65\n",
        "\n",
        "  Call Gamma: 0.04\n",
        "\n",
        "***Interpretation:***  \n",
        "\n",
        "  With a delta of 0.65, the call option's price rises by 0.65 for every $1 increase in the stock price, making it very responsive to stock movement and appropriate for hedging or directional trading.\n",
        "\n",
        "A gamma of 0.04 means that for every dollar that the stock price changes, the delta varies by 0.04 units. This shows that the responsiveness of the option is not constant and does vary somewhat with price movement, making it a risk management component in unpredictable volatility markets.\n",
        "\n",
        "\n"
      ],
      "metadata": {
        "id": "rKXagVoLZArL"
      }
    },
    {
      "cell_type": "markdown",
      "source": [
        "\n",
        "## Step1.8 - 1.10 : Jump Modeler\n",
        "\n",
        "| Option Type | Lambda | Price   | Delta         | Gamma          |\n",
        "|-------------|--------|---------|---------------|----------------|\n",
        "| Merton European Call        | 0.75   | 8.28    | 0.54          | 0.04           |\n",
        "| Merton European Put         | 0.75   | 7.22    | -0.44         | 0.04           |\n",
        "| Merton European Call        | 0.25   | 6.99    | 0.51          | 0.01           |\n",
        "| Merton European Put         | 0.25   | 5.72    | -0.47         | 0.01           |"
      ],
      "metadata": {
        "id": "8vnzxHM1rz22"
      }
    },
    {
      "cell_type": "markdown",
      "source": [
        "***Interpretation:***\n",
        "\n",
        "For more intense jumps, i.e., when λ = 0.75, both call and put option prices are greater because of higher volatility with more jumps; hence, the call option value is 8.28, while the put option value is 7.22.\n",
        "\n",
        "For the less extreme jumps (λ = 0.25), option prices drop, the call being priced at 6.99 and the put at 6.99 and the put at 5.72, demonstrating lower volatility and fewer jumps.\n",
        "\n",
        "Delta quantifies the sensitivity of options to changes in stock price, whereas gamma quantifies the change in delta with respect to changes in stock price. Both are important in using hedging and risk management."
      ],
      "metadata": {
        "id": "_Zg_J3xKraBP"
      }
    },
    {
      "cell_type": "markdown",
      "source": [
        "## Step 1.11: Put-Call Parity Validation"
      ],
      "metadata": {
        "id": "ttTCz16BNFSE"
      }
    },
    {
      "cell_type": "markdown",
      "source": [
        "### Heston Model Pricing:\n",
        "\n",
        "***Objective:***\n",
        "Validate the prices of the put and call options from the Heston and Merton models using put-call parity.\n",
        "\n",
        "\n",
        "*Correlation -0.30: Call = 3.1965, Put = 2.6648*\n",
        "\n",
        "*Correlation -0.70: Call = 2.7662, Put = 3.0055*\n",
        "\n",
        "***Put-Call Parity Check:***\n",
        "\n",
        "Correlation -0.30: {'LHS (C - P)': 0.5317, 'RHS (S - Ke^{-rT})': 1.0925, 'Satisfies Parity': False} Therefore, Put-call parity is not satisfied.\n",
        "\n",
        "Correlation -0.70: {'LHS (C - P)': -0.2393, 'RHS (S - Ke^{-rT})': 1.0925, 'Satisfies Parity': False} Therefore, Put-call parity is not satisfied.\n",
        "\n",
        "\n",
        "### Reasons why put-call parity is not satified in merton model\n",
        "\n",
        "1. Stochastic Volatility Effects The Heston Model assumes stochastic volatility and therefore the volatility changes randomly over time. On the other hand,\n",
        "Put-call parity assumes a constant volatility like the  Black-Scholes.\n",
        "\n",
        "2. Monte Carlo Errors\n",
        "Monte Carlo is larely used in many implementation of heston modell. Montecarl introduces statistical noise which can affect put-call parity.\n"
      ],
      "metadata": {
        "id": "bgH3krZJMbNL"
      }
    },
    {
      "cell_type": "markdown",
      "source": [
        "### Merton Model"
      ],
      "metadata": {
        "id": "eaSBYRxvNbCN"
      }
    },
    {
      "cell_type": "markdown",
      "source": [
        "$Lambda: 0.75$\n",
        "\n",
        "$LHS (C - P): 1.06$\n",
        "\n",
        "$RHS (S - Ke^{-rT}): 1.0925$\n",
        "\n",
        "*Satisfies Parity*: False Therefore, Put-call parity is not satisfied.\n",
        "\n",
        "$Lambda: 0.25$\n",
        "\n",
        "$LHS (C - P): 1.27$\n",
        "\n",
        "$RHS (S - Ke^{-rT}): 1.0925$\n",
        "\n",
        "*Satisfies Parity*: False Therefore, Put-call parity is not satisfied.\n",
        "\n",
        "\n",
        "### Reasons why put-call parity is not satified in merton model\n",
        "\n",
        "This could be because of:\n",
        "\n",
        "  1. Model assumptions\n",
        "  2. Pricing errors\n",
        "  3. Market frictions.\n",
        "\n"
      ],
      "metadata": {
        "id": "vis5EstCNPOZ"
      }
    },
    {
      "cell_type": "markdown",
      "source": [
        "## Step 1.12 : Strike Analysis"
      ],
      "metadata": {
        "id": "gZnRUIjEOEAD"
      }
    },
    {
      "cell_type": "markdown",
      "source": [
        "\n",
        "### Heston Model Pricing for Different Strikes (*Correlation -0.30*):\n",
        "\n",
        "***Objective:***\n",
        "We Run the Heston and Merton models for 7 different strikes to analyze the impact of moneyness on option prices.\n",
        "\n",
        "#### *Table 1: Heston Model Pricing for Different Strikes (Correlation = -0.30)*\n",
        "\n",
        "| Strike Price | Call Price | Put Price |\n",
        "|--------------|------------|-----------|\n",
        "| 94.12        | 0.1237     | 13.4522   |\n",
        "| 88.89        | 0.5314     | 8.6873    |\n",
        "| 84.21        | 1.4624     | 5.1745    |\n",
        "| 80.0         | 3.1967     | 2.703     |\n",
        "| 76.19        | 5.4764     | 1.291     |\n",
        "| 72.73        | 8.2484     | 0.5387    |\n",
        "| 69.57        | 11.0352    | 0.2171    |\n",
        "\n",
        "\n",
        "\n",
        "#### *Table 2: Heston Model Pricing for Different Strikes (Correlation = -0.70)*\n",
        "\n",
        "| Strike Price | Call Price | Put Price |\n",
        "|--------------|------------|-----------|\n",
        "| 94.12        | 0.0455     | 14.2024   |\n",
        "| 88.89        | 0.2835     | 9.3396    |\n",
        "| 84.21        | 1.0973     | 5.6563    |\n",
        "| 80.0         | 2.6755     | 3.027     |\n",
        "| 76.19        | 5.059      | 1.4838    |\n",
        "| 72.73        | 7.7086     | 0.6852    |\n",
        "| 69.57        | 10.2589    | 0.3244    |\n",
        "\n",
        "---\n",
        "***Interpretation:***\n",
        "\n",
        "For both values of correlation (-0.30 and -0.70), call prices are greater for higher strike, reflecting lower intrinsic value for OTM options. Put prices are greater with increasing strikes because they are closer to being ITM.\n",
        "\n",
        "The more negative value of -0.70 produces lower call prices and greater put prices than that for -0.30 because there is more downside risk and less upside potential.\n",
        "\n",
        "This implies the powerful influence of moneyness and correlation on the price of options because out-of-the-money calls and in-the-money puts are extremely sensitive to strike price and correlation movements."
      ],
      "metadata": {
        "id": "thLqMYSQOO6D"
      }
    },
    {
      "cell_type": "markdown",
      "source": [
        "## Step 2.13: American Option Pricing\n",
        "\n",
        "***Objective:***\n",
        "Price American call options using the Heston and Merton models and compare them to European options.\n",
        "\n",
        "\n",
        "| Option Type | Lambda | Price   | Early Exercise Premium |\n",
        "|-------------|--------|---------|-----------------------|\n",
        "| Merton American Call | 0.75 | 9.5941  | 1.2036                |\n",
        "| Merton European Call | 0.75 | 8.3906  |                       |\n",
        "| Merton American Call | 0.25 | 7.3584  | 0.4950                |\n",
        "| Merton European Call | 0.25 | 6.8633  |                       |\n",
        "\n",
        "\n",
        "***Interpretation:***\n",
        "\n",
        " For more intense jumps, i.e., when λ = 0.75, both call and put option prices are greater because of higher volatility with more jumps; hence, the call option value is 8.28, while the put option value is 7.22.\n",
        "\n",
        "\n",
        "For the less extreme jumps (λ = 0.25), option prices drop, the call being priced at 6.99 and the put at 6.99 and the put at 5.72, demonstrating lower volatility and fewer jumps.\n",
        "\n",
        "\n",
        "Delta quantifies the sensitivity of options to changes in stock price, whereas gamma quantifies the change in delta with respect to changes in stock price. Both are important in using hedging and risk management.\n",
        "\n",
        "\n",
        "\n"
      ],
      "metadata": {
        "id": "wRxqyBSSZqNE"
      }
    },
    {
      "cell_type": "markdown",
      "source": [
        "## Step 2.14: Barrier Option Pricing (Heston)\n",
        "\n",
        "***Objective:***\n",
        "Price a European up-and-in call option (UAI) using the Heston model.\n",
        "\n",
        "*Parameters:\n",
        "Barrier:95, Strike:95*\n",
        "\n",
        "***Results:***\n",
        "UAI Price: 3.45 (vs. European Call: 6.45).\n",
        "\n",
        "***Interpretation:***\n",
        "\n",
        "The value of the up-and-in call (UAI) of 3.45 is lower than that of the European call of 6.45 because the UAI option would never be exercised if the stock price does not move across the barrier of $95.\n",
        "\n",
        "This is the lower probability that the stock price would cross the barrier in the option lifetime and, thus, a lower value of UAI option relative to an everyday European call.\n",
        "\n",
        "The findings identify how barrier options are cheaper because they are conditionally activated, providing less expensive options for particular hedging or speculative approaches.\n",
        "\n"
      ],
      "metadata": {
        "id": "nCJGCEbmZ1sj"
      }
    },
    {
      "cell_type": "markdown",
      "source": [
        "## Step 2.15: Barrier Option Pricing (Merton)\n",
        "\n",
        "***Objective:***\n",
        "Price a European down-and-in put option (DAI) using the Merton model.\n",
        "\n",
        "*Parameters: Barrier: 65, Strike:65.*\n",
        "\n",
        "***Results:***\n",
        "\n",
        "\n",
        "| Prices                              | Value   |\n",
        "|----------------------------------------|---------|\n",
        "| Down-and-In Put Price                  | 2.7712  |\n",
        "| European Put Price                     | 2.7712  |\n",
        "| Price Difference (EU - DAI)           | 0.0000  |\n",
        "| Price Ratio (DAI/EU)                  | 1.0000  |\n",
        "| Percentage of paths hitting barrier    | 26.17%  |\n",
        "\n",
        "\n",
        "***Interpretation:***\n",
        "\n",
        "\n",
        "The DAI option value 2.7712 equals European put value and so in most simulations of the present barrier condition (reaching $65 price), this is invariably fulfilled.\n",
        "\n",
        "26.17% reaching the barrier can lead one to interpret that frequently stock prices touch bottom at $65 and, thus, DAI is effectively similar to the traditional European put.\n",
        "\n",
        "This highlights the importance of barrier levels in exotic options as their activation has a significant effect on pricing and payoff behavior."
      ],
      "metadata": {
        "id": "XiMr9IwjpF52"
      }
    },
    {
      "cell_type": "markdown",
      "source": [
        "# **References**\n",
        "\n",
        "1) Longstaff, Francis A., and Eduardo S. Schwartz. \"Valuing American options by simulation: a simple least-squares approach.\" The review of financial studies 14.1 (2001): 113-147.\n",
        "\n",
        "2) Hull, J.C. (2018). Options, Futures, and Other Derivatives. Pearson. (Black-Scholes model, Greeks, and volatility sensitivity chapters).\n",
        "\n",
        "3) WorldQuant University MScFE Curriculum - Module 3 to 7 notes:\n",
        "\n",
        "4) Binomial/Trinomial Trees for option pricing lesson.\n",
        "Lesson on Black-Scholes Closed-form solutions.\n",
        "Lesson on Greeks (Delta and Vega calculations).\n",
        "\n",
        "5) Hull, J.C. (2018). Options, Futures, and Other Derivatives. Prentice-Hall. (Chapter 13-14: European Options, Greeks interpretation, and volatility measures).\n",
        "\n",
        "6) Python Documentation for NumPy and SciPy.\n"
      ],
      "metadata": {
        "id": "JzgBJj4hkETr"
      }
    },
    {
      "cell_type": "markdown",
      "source": [
        "# Code"
      ],
      "metadata": {
        "id": "IQc9H4Lzrzt5"
      }
    },
    {
      "cell_type": "markdown",
      "source": [
        "##Step 1.5"
      ],
      "metadata": {
        "id": "plhYB5HSscxQ"
      }
    },
    {
      "cell_type": "code",
      "source": [
        "## Code Step 1.5:\n",
        "\n",
        "\n",
        "import numpy as np\n",
        "\n",
        "# Parameters\n",
        "S0 = 80\n",
        "K = 80\n",
        "r = 0.055\n",
        "v0 = 0.032\n",
        "kappa = 1.85\n",
        "theta = 0.045\n",
        "sigma = 0.35\n",
        "rho = -0.30\n",
        "T = 0.25\n",
        "N = 50\n",
        "M = 10000  # Number of simulations\n",
        "\n",
        "# Time step\n",
        "dt = T / N\n",
        "\n",
        "# Initialize arrays\n",
        "S = np.zeros((M, N+1))\n",
        "v = np.zeros((M, N+1))\n",
        "S[:, 0] = S0\n",
        "v[:, 0] = v0\n",
        "\n",
        "# Monte Carlo Simulation\n",
        "for t in range(1, N+1):\n",
        "    # Generate correlated random variables\n",
        "    Z1 = np.random.normal(0, 1, M)\n",
        "    Z2 = rho * Z1 + np.sqrt(1 - rho**2) * np.random.normal(0, 1, M)\n",
        "\n",
        "    # Update variance\n",
        "    v[:, t] = v[:, t-1] + kappa * (theta - v[:, t-1]) * dt + sigma * np.sqrt(v[:, t-1]) * np.sqrt(dt) * Z2\n",
        "    v[:, t] = np.maximum(v[:, t], 0)  # Ensure non-negative variance\n",
        "\n",
        "    # Update stock price\n",
        "    S[:, t] = S[:, t-1] * np.exp((r - 0.5 * v[:, t-1]) * dt + np.sqrt(v[:, t-1]) * np.sqrt(dt) * Z1)\n",
        "\n",
        "# Option pricing\n",
        "call_payoff = np.maximum(S[:, -1] - K, 0)\n",
        "put_payoff = np.maximum(K - S[:, -1], 0)\n",
        "\n",
        "call_price = np.exp(-r * T) * np.mean(call_payoff)\n",
        "put_price = np.exp(-r * T) * np.mean(put_payoff)\n",
        "\n",
        "print(f\"Call Price: {call_price:.2f}\")\n",
        "print(f\"Put Price: {put_price:.2f}\")"
      ],
      "metadata": {
        "colab": {
          "base_uri": "https://localhost:8080/"
        },
        "outputId": "d3d739a3-17c0-4c83-9335-aaca8151fd43",
        "id": "4bBFeZIysopa"
      },
      "execution_count": 8,
      "outputs": [
        {
          "output_type": "stream",
          "name": "stdout",
          "text": [
            "Call Price: 3.41\n",
            "Put Price: 2.37\n"
          ]
        }
      ]
    },
    {
      "cell_type": "markdown",
      "source": [
        "##Step 1.6"
      ],
      "metadata": {
        "id": "sWGuQbHttFSu"
      }
    },
    {
      "cell_type": "code",
      "source": [
        "## Code Step 1.6\n",
        "\n",
        "# Update correlation\n",
        "rho = -0.70\n",
        "\n",
        "# Re-run the simulation with the new correlation\n",
        "for t in range(1, N+1):\n",
        "    Z1 = np.random.normal(0, 1, M)\n",
        "    Z2 = rho * Z1 + np.sqrt(1 - rho**2) * np.random.normal(0, 1, M)\n",
        "\n",
        "    v[:, t] = v[:, t-1] + kappa * (theta - v[:, t-1]) * dt + sigma * np.sqrt(v[:, t-1]) * np.sqrt(dt) * Z2\n",
        "    v[:, t] = np.maximum(v[:, t], 0)\n",
        "\n",
        "    S[:, t] = S[:, t-1] * np.exp((r - 0.5 * v[:, t-1]) * dt + np.sqrt(v[:, t-1]) * np.sqrt(dt) * Z1)\n",
        "\n",
        "call_payoff = np.maximum(S[:, -1] - K, 0)\n",
        "put_payoff = np.maximum(K - S[:, -1], 0)\n",
        "\n",
        "call_price = np.exp(-r * T) * np.mean(call_payoff)\n",
        "put_price = np.exp(-r * T) * np.mean(put_payoff)\n",
        "\n",
        "print(f\"Call Price: {call_price:.2f}\")\n",
        "print(f\"Put Price: {put_price:.2f}\")"
      ],
      "metadata": {
        "colab": {
          "base_uri": "https://localhost:8080/"
        },
        "outputId": "73e5f81a-d9ba-452a-89b9-966390ad10dc",
        "id": "B5cXMdaHtPuV"
      },
      "execution_count": 9,
      "outputs": [
        {
          "output_type": "stream",
          "name": "stdout",
          "text": [
            "Call Price: 3.45\n",
            "Put Price: 2.37\n"
          ]
        }
      ]
    },
    {
      "cell_type": "markdown",
      "source": [
        "## Step 1.7"
      ],
      "metadata": {
        "id": "B_twgdkStoiQ"
      }
    },
    {
      "cell_type": "code",
      "source": [
        "# Step 1.7\n",
        "\n",
        "# Delta calculation\n",
        "delta_S = 1  # Small change in stock price\n",
        "S0_plus = S0 + delta_S\n",
        "S0_minus = S0 - delta_S\n",
        "\n",
        "# Re-run simulation for S0_plus\n",
        "S_plus = np.zeros((M, N+1))\n",
        "S_plus[:, 0] = S0_plus\n",
        "v_plus = np.zeros((M, N+1))\n",
        "v_plus[:, 0] = v0\n",
        "\n",
        "for t in range(1, N+1):\n",
        "    Z1 = np.random.normal(0, 1, M)\n",
        "    Z2 = rho * Z1 + np.sqrt(1 - rho**2) * np.random.normal(0, 1, M)\n",
        "\n",
        "    v_plus[:, t] = v_plus[:, t-1] + kappa * (theta - v_plus[:, t-1]) * dt + sigma * np.sqrt(v_plus[:, t-1]) * np.sqrt(dt) * Z2\n",
        "    v_plus[:, t] = np.maximum(v_plus[:, t], 0)\n",
        "\n",
        "    S_plus[:, t] = S_plus[:, t-1] * np.exp((r - 0.5 * v_plus[:, t-1]) * dt + np.sqrt(v_plus[:, t-1]) * np.sqrt(dt) * Z1)\n",
        "\n",
        "call_payoff_plus = np.maximum(S_plus[:, -1] - K, 0)\n",
        "call_price_plus = np.exp(-r * T) * np.mean(call_payoff_plus)\n",
        "\n",
        "# Re-run simulation for S0_minus\n",
        "S_minus = np.zeros((M, N+1))\n",
        "S_minus[:, 0] = S0_minus\n",
        "v_minus = np.zeros((M, N+1))\n",
        "v_minus[:, 0] = v0\n",
        "\n",
        "for t in range(1, N+1):\n",
        "    Z1 = np.random.normal(0, 1, M)\n",
        "    Z2 = rho * Z1 + np.sqrt(1 - rho**2) * np.random.normal(0, 1, M)\n",
        "\n",
        "    v_minus[:, t] = v_minus[:, t-1] + kappa * (theta - v_minus[:, t-1]) * dt + sigma * np.sqrt(v_minus[:, t-1]) * np.sqrt(dt) * Z2\n",
        "    v_minus[:, t] = np.maximum(v_minus[:, t], 0)\n",
        "\n",
        "    S_minus[:, t] = S_minus[:, t-1] * np.exp((r - 0.5 * v_minus[:, t-1]) * dt + np.sqrt(v_minus[:, t-1]) * np.sqrt(dt) * Z1)\n",
        "\n",
        "call_payoff_minus = np.maximum(S_minus[:, -1] - K, 0)\n",
        "call_price_minus = np.exp(-r * T) * np.mean(call_payoff_minus)\n",
        "\n",
        "# Calculate delta and gamma\n",
        "delta = (call_price_plus - call_price_minus) / (2 * delta_S)\n",
        "gamma = (call_price_plus - 2 * call_price + call_price_minus) / (delta_S ** 2)\n",
        "\n",
        "print(f\"Call Delta: {delta:.2f}\")\n",
        "print(f\"Call Gamma: {gamma:.2f}\")"
      ],
      "metadata": {
        "colab": {
          "base_uri": "https://localhost:8080/"
        },
        "outputId": "a3a47d3e-8125-4b73-f894-53169fb7bf89",
        "id": "7vyBSuXXt0Li"
      },
      "execution_count": 10,
      "outputs": [
        {
          "output_type": "stream",
          "name": "stdout",
          "text": [
            "Call Delta: 0.66\n",
            "Call Gamma: 0.14\n"
          ]
        }
      ]
    },
    {
      "cell_type": "markdown",
      "source": [
        "## step 1 8-10"
      ],
      "metadata": {
        "id": "JQfa9g7ntpNK"
      }
    },
    {
      "cell_type": "code",
      "source": [
        "import matplotlib.pyplot as plt\n",
        "import numpy as np\n",
        "import scipy.stats as ss\n",
        "\n",
        "lamb_q8 = 0.75  # Lambda of the model\n",
        "lamb_q9 = 0.25  # Lambda of the model\n",
        "mu = -0.5  # Mu\n",
        "delta = 0.22  # Delta\n",
        "\n",
        "\n",
        "r = 0.055  # Risk-free rate\n",
        "sigma = 0.35  # Volatility\n",
        "T = 1.0/4  # Maturity/time period (in years)\n",
        "S0 = 80  # Current Stock Price\n",
        "\n",
        "Ite = 10000  # Number of simulations (paths)\n",
        "M = 255  # Number of steps\n",
        "dt = T / M  # Time-step\n",
        "\n",
        "\n",
        "SM = np.zeros((M + 1, Ite))\n",
        "SM[0] = S0\n",
        "\n",
        "for lamb in [lamb_q8, lamb_q9]:\n",
        "    # rj\n",
        "    rj = lamb * (np.exp(mu + 0.5 * delta**2) - 1)\n",
        "\n",
        "    # Random numbers\n",
        "    z1 = np.random.standard_normal((M + 1, Ite))\n",
        "    z2 = np.random.standard_normal((M + 1, Ite))\n",
        "    y = np.random.poisson(lamb * dt, (M + 1, Ite))\n",
        "\n",
        "\n",
        "    for t in range(1, M + 1):\n",
        "        SM[t] = SM[t - 1] * (\n",
        "            np.exp((r - rj - 0.5 * sigma**2) * dt + sigma * np.sqrt(dt) * z1[t])\n",
        "            + (np.exp(mu + delta * z2[t]) - 1) * y[t]\n",
        "        )\n",
        "        SM[t] = np.maximum(\n",
        "            SM[t], 0.00001\n",
        "        )  # To ensure that the price never goes below zero!\n",
        "\n",
        "\n",
        "    def merton_call_mc(S, K, r, T, t):\n",
        "        payoff = np.maximum(0, S[-1, :] - K)\n",
        "\n",
        "        average = np.mean(payoff)\n",
        "\n",
        "        return np.exp(-r * (T - t)) * average\n",
        "\n",
        "    def merton_put_mc(S, K, r, T, t):\n",
        "        payoff = np.maximum(0, K - S[-1, :])\n",
        "\n",
        "        average = np.mean(payoff)\n",
        "\n",
        "        return np.exp(-r * (T - t)) * average\n",
        "\n",
        "    def compute_greeks_call(h=0.01):\n",
        "        price1=merton_call_mc(SM+h, S0, r, T, 0)\n",
        "        price2=merton_call_mc(SM, S0, r, T, 0)\n",
        "        price3=merton_call_mc(SM-h, S0, r, T, 0)\n",
        "\n",
        "        #Finite difference formula\n",
        "        delta = (price1 - price3) / (2 * h)\n",
        "        gamma = (price1 - 2 * price2 + price3) / (h ** 2)\n",
        "        return price2, delta, gamma\n",
        "\n",
        "    def compute_greeks_put(h=0.01):\n",
        "        price1=merton_put_mc(SM+h, S0, r, T, 0)\n",
        "        price2=merton_put_mc(SM, S0, r, T, 0)\n",
        "        price3=merton_put_mc(SM-h, S0, r, T, 0)\n",
        "\n",
        "        #Finite difference formula\n",
        "        delta = (price1 - price3) / (2 * h)\n",
        "        gamma = (price1 - 2 * price2 + price3) / (h ** 2)\n",
        "        return price2, delta, gamma\n",
        "\n",
        "    price, delta, gamma = compute_greeks_call()\n",
        "    print(f\"European Call Price under Merton (lambda={lamb}): {price}\")\n",
        "    print(f\"Delta call: {delta}   Gamma call: {gamma}\")\n",
        "\n",
        "    price, delta, gamma = compute_greeks_put()\n",
        "    print(f\"European Put Price under Merton (lambda={lamb}): {price}\")\n",
        "    print(f\"Delta put: {delta}   Gamma put: {gamma}\")"
      ],
      "metadata": {
        "colab": {
          "base_uri": "https://localhost:8080/"
        },
        "id": "vDT79eB2tn95",
        "outputId": "c77382b1-325f-4c66-cd02-0efda6167db6"
      },
      "execution_count": 11,
      "outputs": [
        {
          "output_type": "stream",
          "name": "stdout",
          "text": [
            "European Call Price under Merton (lambda=0.75): 8.492700546250152\n",
            "Delta call: 0.5520262245277685   Gamma call: 0.014221033186601062\n",
            "European Put Price under Merton (lambda=0.75): 7.006191015129862\n",
            "Delta put: -0.43431787493961593   Gamma put: 0.014221033168837494\n",
            "European Call Price under Merton (lambda=0.25): 6.8170873400542815\n",
            "Delta call: 0.5129782850346931   Gamma call: 0.015870662304351413\n",
            "European Put Price under Merton (lambda=0.25): 5.630308577642721\n",
            "Delta put: -0.47336581443273573   Gamma put: 0.015870662330996765\n"
          ]
        }
      ]
    },
    {
      "cell_type": "markdown",
      "source": [
        "## step 2.8\n"
      ],
      "metadata": {
        "id": "zOJOi457tvc6"
      }
    },
    {
      "cell_type": "code",
      "source": [
        "def monte_carlo_american_call_merton(S0, K, T, r, sigma, lamb, mu, delta, M=10000, N=255):\n",
        "\n",
        "    dt = T / N  # Time step size\n",
        "    df = np.exp(-r * dt)  # Discount factor\n",
        "\n",
        "    rj = lamb * (np.exp(mu + 0.5 * delta**2) - 1)\n",
        "\n",
        "    S = np.zeros((M, N + 1))\n",
        "    S[:, 0] = S0\n",
        "\n",
        "    z1 = np.random.standard_normal((M, N))\n",
        "    z2 = np.random.standard_normal((M, N))\n",
        "    y = np.random.poisson(lamb * dt, (M, N))\n",
        "\n",
        "    for t in range(1, N + 1):\n",
        "        S[:, t] = S[:, t - 1] * (\n",
        "            np.exp((r - rj - 0.5 * sigma**2) * dt + sigma * np.sqrt(dt) * z1[:, t - 1])\n",
        "            + (np.exp(mu + delta * z2[:, t - 1]) - 1) * y[:, t - 1]\n",
        "        )\n",
        "        S[:, t] = np.maximum(S[:, t], 0.00001)\n",
        "\n",
        "    exercise_time = np.full(M, N)\n",
        "\n",
        "    for t in range(N - 1, 0, -1):\n",
        "        # Only consider paths that haven't been decided to exercise yet\n",
        "        not_exercised = (exercise_time == N)\n",
        "        in_the_money = S[:, t] > K\n",
        "        valid_paths = not_exercised & in_the_money\n",
        "\n",
        "        if np.any(valid_paths):\n",
        "            X = S[valid_paths, t]\n",
        "            Y = np.maximum(S[valid_paths, N] - K, 0) * df**(N - t)\n",
        "\n",
        "            A = np.vstack([np.ones_like(X), X, X**2]).T\n",
        "            beta = np.linalg.lstsq(A, Y, rcond=None)[0]\n",
        "            continuation_value = A @ beta\n",
        "\n",
        "            immediate_payoff = np.maximum(X - K, 0)\n",
        "            exercise_now = immediate_payoff > continuation_value\n",
        "\n",
        "            valid_indices = np.where(valid_paths)[0]\n",
        "            for i, should_exercise in enumerate(exercise_now):\n",
        "                if should_exercise:\n",
        "                    exercise_time[valid_indices[i]] = t\n",
        "\n",
        "    payoff = np.array([np.maximum(S[i, exercise_time[i]] - K, 0) * df**exercise_time[i] for i in range(M)])\n",
        "\n",
        "    option_price = np.mean(payoff)\n",
        "\n",
        "    return option_price\n",
        "\n",
        "for lamb in [lamb_q8, lamb_q9]:\n",
        "    price = monte_carlo_american_call_merton(S0, S0, T, r, sigma, lamb, mu, delta)\n",
        "    print(f\"American Call Price under Merton (lambda={lamb}): {price:.4f}\")\n",
        "\n",
        "    def merton_call_mc(S, K, r, T, t=0):\n",
        "        payoff = np.maximum(0, S[-1, :] - K)\n",
        "        return np.exp(-r * (T - t)) * np.mean(payoff)\n",
        "\n",
        "    # Initialize and simulate stock paths for European option\n",
        "    SM = np.zeros((255 + 1, 10000))\n",
        "    SM[0] = S0\n",
        "\n",
        "    # Calculate the risk-adjusted drift\n",
        "    rj = lamb * (np.exp(mu + 0.5 * delta**2) - 1)\n",
        "\n",
        "    z1 = np.random.standard_normal((255 + 1, 10000))\n",
        "    z2 = np.random.standard_normal((255 + 1, 10000))\n",
        "    y = np.random.poisson(lamb * dt, (255 + 1, 10000))\n",
        "\n",
        "    dt = T / 255\n",
        "    for t in range(1, 255 + 1):\n",
        "        SM[t] = SM[t - 1] * (\n",
        "            np.exp((r - rj - 0.5 * sigma**2) * dt + sigma * np.sqrt(dt) * z1[t])\n",
        "            + (np.exp(mu + delta * z2[t]) - 1) * y[t]\n",
        "        )\n",
        "        SM[t] = np.maximum(SM[t], 0.00001)\n",
        "\n",
        "    european_price = merton_call_mc(SM, S0, r, T)\n",
        "    print(f\"European Call Price under Merton (lambda={lamb}): {european_price:.4f}\")\n",
        "    print(f\"Early Exercise Premium: {price - european_price:.4f}\\n\")"
      ],
      "metadata": {
        "colab": {
          "base_uri": "https://localhost:8080/"
        },
        "id": "N7WztX0ktxVf",
        "outputId": "6a2adf93-8a86-4efa-897e-b71d3327aab8"
      },
      "execution_count": 12,
      "outputs": [
        {
          "output_type": "stream",
          "name": "stdout",
          "text": [
            "American Call Price under Merton (lambda=0.75): 9.5392\n",
            "European Call Price under Merton (lambda=0.75): 8.7864\n",
            "Early Exercise Premium: 0.7528\n",
            "\n",
            "American Call Price under Merton (lambda=0.25): 7.6240\n",
            "European Call Price under Merton (lambda=0.25): 6.9615\n",
            "Early Exercise Premium: 0.6625\n",
            "\n"
          ]
        }
      ]
    },
    {
      "cell_type": "markdown",
      "source": [
        "#STEP 2.11"
      ],
      "metadata": {
        "id": "1LkFdo3QHMHD"
      }
    },
    {
      "cell_type": "markdown",
      "source": [
        "##Heston Model"
      ],
      "metadata": {
        "id": "ExslfLhMKAw-"
      }
    },
    {
      "cell_type": "code",
      "source": [
        "import numpy as np\n",
        "\n",
        "def heston_mc(S0, K, T, r, v0, kappa, theta, sigma, rho, M=10000, N=252):\n",
        "    \"\"\"\n",
        "    Monte Carlo simulation for Heston Model to price European options.\n",
        "    \"\"\"\n",
        "    dt = T / N\n",
        "    S = np.full((M,), S0)\n",
        "    v = np.full((M,), v0)\n",
        "\n",
        "    for t in range(N):\n",
        "        Z1 = np.random.standard_normal(M)\n",
        "        Z2 = np.random.standard_normal(M)\n",
        "        W1 = Z1\n",
        "        W2 = rho * Z1 + np.sqrt(1 - rho**2) * Z2\n",
        "\n",
        "        v = np.maximum(v + kappa * (theta - v) * dt + sigma * np.sqrt(v * dt) * W2, 0)\n",
        "        S = S * np.exp((r - 0.5 * v) * dt + np.sqrt(v * dt) * W1)\n",
        "\n",
        "    call_price = np.exp(-r * T) * np.mean(np.maximum(S - K, 0))\n",
        "    put_price = np.exp(-r * T) * np.mean(np.maximum(K - S, 0))\n",
        "\n",
        "    return call_price, put_price\n",
        "\n",
        "def check_put_call_parity(S0, K, T, r, call_price, put_price):\n",
        "    \"\"\"\n",
        "    Checks if put-call parity holds.\n",
        "    \"\"\"\n",
        "    discount_factor = np.exp(-r * T)\n",
        "    rhs = S0 - (K * discount_factor)\n",
        "    lhs = call_price - put_price\n",
        "    satisfies = np.isclose(lhs, rhs, atol=0.01)\n",
        "\n",
        "    return {\n",
        "        \"LHS (C - P)\": round(lhs, 4),\n",
        "        \"RHS (S - Ke^(-rT))\": round(rhs, 4),\n",
        "        \"Satisfies Parity\": satisfies\n",
        "    }\n",
        "\n",
        "# Given parameters for Heston Model\n",
        "S0 = 80  # Initial stock price\n",
        "K = 80   # ATM strike price\n",
        "r = 0.055  # Risk-free rate\n",
        "T = 0.25  # Time to expiration (3 months)\n",
        "v0 = 0.032  # Initial variance (3.2%)\n",
        "kappa = 1.85  # Mean reversion speed\n",
        "theta = 0.045  # Long-run variance\n",
        "sigma = 0.2  # Volatility of variance (assumed)\n",
        "\n",
        "# Pricing for correlation = -0.30\n",
        "call_30, put_30 = heston_mc(S0, K, T, r, v0, kappa, theta, sigma, -0.30)\n",
        "parity_30 = check_put_call_parity(S0, K, T, r, call_30, put_30)\n",
        "\n",
        "# Pricing for correlation = -0.70\n",
        "call_70, put_70 = heston_mc(S0, K, T, r, v0, kappa, theta, sigma, -0.70)\n",
        "parity_70 = check_put_call_parity(S0, K, T, r, call_70, put_70)\n",
        "\n",
        "# Print results\n",
        "print(\"\\nHeston Model Pricing:\")\n",
        "print(f\"Correlation -0.30: Call = {call_30:.4f}, Put = {put_30:.4f}\")\n",
        "print(f\"Correlation -0.70: Call = {call_70:.4f}, Put = {put_70:.4f}\")\n",
        "\n",
        "print(\"\\nPut-Call Parity Check:\")\n",
        "print(f\"Correlation -0.30: {parity_30}\")\n",
        "print(f\"Correlation -0.70: {parity_70}\")"
      ],
      "metadata": {
        "colab": {
          "base_uri": "https://localhost:8080/"
        },
        "id": "qwadZJGdH6wn",
        "outputId": "c5a1041e-ea73-43e0-c471-667b91ec6c5f"
      },
      "execution_count": 13,
      "outputs": [
        {
          "output_type": "stream",
          "name": "stdout",
          "text": [
            "\n",
            "Heston Model Pricing:\n",
            "Correlation -0.30: Call = 3.2357, Put = 2.6473\n",
            "Correlation -0.70: Call = 2.7799, Put = 3.0429\n",
            "\n",
            "Put-Call Parity Check:\n",
            "Correlation -0.30: {'LHS (C - P)': 0.5884, 'RHS (S - Ke^(-rT))': 1.0925, 'Satisfies Parity': False}\n",
            "Correlation -0.70: {'LHS (C - P)': -0.263, 'RHS (S - Ke^(-rT))': 1.0925, 'Satisfies Parity': False}\n"
          ]
        }
      ]
    },
    {
      "cell_type": "markdown",
      "source": [
        "##Merton Model"
      ],
      "metadata": {
        "id": "xl29ZNFHHpDS"
      }
    },
    {
      "cell_type": "code",
      "source": [
        "import numpy as np\n",
        "\n",
        "def check_put_call_parity(S0, r, T, option_data):\n",
        "\n",
        "    discount_factor = np.exp(-r * T)\n",
        "    rhs = S0 * (1 - discount_factor)\n",
        "\n",
        "    results = {}\n",
        "    for lambda_val, prices in option_data.items():\n",
        "        lhs = prices[\"Call\"] - prices[\"Put\"]\n",
        "        satisfies = np.isclose(lhs, rhs, atol=0.01)\n",
        "\n",
        "        results[lambda_val] = {\n",
        "            \"LHS (C - P)\": round(lhs, 4),\n",
        "            \"RHS (S - Ke^(-rT))\": round(rhs, 4),\n",
        "            \"Satisfies Parity\": satisfies\n",
        "        }\n",
        "\n",
        "    return results\n",
        "\n",
        "# Given values\n",
        "S0 = 80  # Current stock price\n",
        "r = 0.055  # Risk-free rate\n",
        "T = 0.25  # Time to expiration\n",
        "\n",
        "# European option prices from Merton Model\n",
        "option_data = {\n",
        "    0.75: {\"Call\": 8.28, \"Put\": 7.22},\n",
        "    0.25: {\"Call\": 6.99, \"Put\": 5.72},\n",
        "}\n",
        "\n",
        "# Run the check\n",
        "parity_results = check_put_call_parity(S0, r, T, option_data)\n",
        "\n",
        "# Print results\n",
        "for lambda_val, result in parity_results.items():\n",
        "    print(f\"\\nLambda: {lambda_val}\")\n",
        "    for key, value in result.items():\n",
        "        print(f\"{key}: {value}\")\n"
      ],
      "metadata": {
        "colab": {
          "base_uri": "https://localhost:8080/"
        },
        "id": "owcWr54qHSsn",
        "outputId": "ae80bfb8-4808-4cdf-d5e2-ceeb2687c34d"
      },
      "execution_count": 14,
      "outputs": [
        {
          "output_type": "stream",
          "name": "stdout",
          "text": [
            "\n",
            "Lambda: 0.75\n",
            "LHS (C - P): 1.06\n",
            "RHS (S - Ke^(-rT)): 1.0925\n",
            "Satisfies Parity: False\n",
            "\n",
            "Lambda: 0.25\n",
            "LHS (C - P): 1.27\n",
            "RHS (S - Ke^(-rT)): 1.0925\n",
            "Satisfies Parity: False\n"
          ]
        }
      ]
    },
    {
      "cell_type": "markdown",
      "source": [
        "#Step 2.12"
      ],
      "metadata": {
        "id": "1dFWjGk1KozV"
      }
    },
    {
      "cell_type": "code",
      "source": [
        "import numpy as np\n",
        "\n",
        "def heston_mc(S0, K, T, r, v0, kappa, theta, sigma, rho, M=10000, N=252):\n",
        "    \"\"\"\n",
        "    Monte Carlo simulation for Heston Model to price European options.\n",
        "    \"\"\"\n",
        "    dt = T / N\n",
        "    S = np.full((M,), S0)\n",
        "    v = np.full((M,), v0)\n",
        "\n",
        "    for t in range(N):\n",
        "        Z1 = np.random.standard_normal(M)\n",
        "        Z2 = np.random.standard_normal(M)\n",
        "        W1 = Z1\n",
        "        W2 = rho * Z1 + np.sqrt(1 - rho**2) * Z2\n",
        "\n",
        "        v = np.maximum(v + kappa * (theta - v) * dt + sigma * np.sqrt(v * dt) * W2, 0)\n",
        "        S = S * np.exp((r - 0.5 * v) * dt + np.sqrt(v * dt) * W1)\n",
        "\n",
        "    call_price = np.exp(-r * T) * np.mean(np.maximum(S - K, 0))\n",
        "    put_price = np.exp(-r * T) * np.mean(np.maximum(K - S, 0))\n",
        "\n",
        "    return call_price, put_price\n",
        "\n",
        "def generate_strike_prices(S0):\n",
        "    \"\"\"\n",
        "    Generate 7 strike prices using approximate moneyness values.\n",
        "    \"\"\"\n",
        "    moneyness_values = [0.85, 0.90, 0.95, 1.0, 1.05, 1.10, 1.15]\n",
        "    return [round(S0 / m, 2) for m in moneyness_values]\n",
        "\n",
        "def run_heston_for_strikes(S0, T, r, v0, kappa, theta, sigma, rho):\n",
        "    \"\"\"\n",
        "    Run the Heston Model for different strike prices.\n",
        "    \"\"\"\n",
        "    strikes = generate_strike_prices(S0)\n",
        "    results = {}\n",
        "\n",
        "    for K in strikes:\n",
        "        call_price, put_price = heston_mc(S0, K, T, r, v0, kappa, theta, sigma, rho)\n",
        "        results[K] = {\"Call Price\": round(call_price, 4), \"Put Price\": round(put_price, 4)}\n",
        "\n",
        "    return results\n",
        "\n",
        "# Given parameters\n",
        "S0 = 80  # Initial stock price\n",
        "T = 0.25  # Time to expiration (3 months)\n",
        "r = 0.055  # Risk-free rate\n",
        "v0 = 0.032  # Initial variance (3.2%)\n",
        "kappa = 1.85  # Mean reversion speed\n",
        "theta = 0.045  # Long-run variance\n",
        "sigma = 0.2  # Volatility of variance (assumed)\n",
        "\n",
        "# Running the Heston Model for correlation values -0.30 and -0.70\n",
        "heston_results_30 = run_heston_for_strikes(S0, T, r, v0, kappa, theta, sigma, -0.30)\n",
        "heston_results_70 = run_heston_for_strikes(S0, T, r, v0, kappa, theta, sigma, -0.70)\n",
        "\n",
        "# Printing the results\n",
        "print(\"\\nHeston Model Pricing for Different Strikes (Correlation -0.30):\")\n",
        "for strike, prices in heston_results_30.items():\n",
        "    print(f\"Strike {strike}: {prices}\")\n",
        "\n",
        "print(\"\\nHeston Model Pricing for Different Strikes (Correlation -0.70):\")\n",
        "for strike, prices in heston_results_70.items():\n",
        "    print(f\"Strike {strike}: {prices}\")\n"
      ],
      "metadata": {
        "colab": {
          "base_uri": "https://localhost:8080/"
        },
        "id": "1mcfLkMXK500",
        "outputId": "865db74f-e572-4941-e0d0-9bf8613226e8"
      },
      "execution_count": 15,
      "outputs": [
        {
          "output_type": "stream",
          "name": "stdout",
          "text": [
            "\n",
            "Heston Model Pricing for Different Strikes (Correlation -0.30):\n",
            "Strike 94.12: {'Call Price': 0.1091, 'Put Price': 13.5995}\n",
            "Strike 88.89: {'Call Price': 0.5421, 'Put Price': 8.6959}\n",
            "Strike 84.21: {'Call Price': 1.4243, 'Put Price': 5.2728}\n",
            "Strike 80.0: {'Call Price': 3.1611, 'Put Price': 2.7302}\n",
            "Strike 76.19: {'Call Price': 5.5077, 'Put Price': 1.2575}\n",
            "Strike 72.73: {'Call Price': 8.2546, 'Put Price': 0.5452}\n",
            "Strike 69.57: {'Call Price': 11.0255, 'Put Price': 0.2136}\n",
            "\n",
            "Heston Model Pricing for Different Strikes (Correlation -0.70):\n",
            "Strike 94.12: {'Call Price': 0.0439, 'Put Price': 14.2789}\n",
            "Strike 88.89: {'Call Price': 0.3119, 'Put Price': 9.3462}\n",
            "Strike 84.21: {'Call Price': 1.1199, 'Put Price': 5.5907}\n",
            "Strike 80.0: {'Call Price': 2.6895, 'Put Price': 3.0108}\n",
            "Strike 76.19: {'Call Price': 4.9663, 'Put Price': 1.5109}\n",
            "Strike 72.73: {'Call Price': 7.6949, 'Put Price': 0.6827}\n",
            "Strike 69.57: {'Call Price': 10.1902, 'Put Price': 0.327}\n"
          ]
        }
      ]
    },
    {
      "cell_type": "markdown",
      "source": [
        "##step 2.15"
      ],
      "metadata": {
        "id": "NyMwqMN_Hu1i"
      }
    },
    {
      "cell_type": "code",
      "source": [
        "import numpy as np\n",
        "\n",
        "#Using (Anthropic) for skeleton\n",
        "def monte_carlo_merton_barrier_put(S0, K, B, T, r, sigma, lamb, mu, delta, M=100000, N=255):\n",
        "    dt = T / N\n",
        "    rj = lamb * (np.exp(mu + 0.5 * delta**2) - 1)\n",
        "    S = np.zeros((M, N + 1))\n",
        "    S[:, 0] = S0\n",
        "\n",
        "    hits_barrier = np.zeros(M, dtype=bool)\n",
        "\n",
        "    z1 = np.random.standard_normal((M, N))\n",
        "    z2 = np.random.standard_normal((M, N))\n",
        "    y = np.random.poisson(lamb * dt, (M, N))\n",
        "\n",
        "    for t in range(1, N + 1):\n",
        "        S[:, t] = S[:, t - 1] * (\n",
        "            np.exp((r - rj - 0.5 * sigma**2) * dt + sigma * np.sqrt(dt) * z1[:, t - 1])\n",
        "            + (np.exp(mu + delta * z2[:, t - 1]) - 1) * y[:, t - 1]\n",
        "        )\n",
        "        S[:, t] = np.maximum(S[:, t], 0.00001)\n",
        "\n",
        "        # Check for barrier hits\n",
        "        hits_barrier = hits_barrier | (S[:, t] <= B)\n",
        "\n",
        "    put_payoffs = np.maximum(K - S[:, -1], 0)\n",
        "\n",
        "    dai_payoffs = np.zeros(M)\n",
        "    dai_payoffs[hits_barrier] = put_payoffs[hits_barrier]\n",
        "\n",
        "    # Discount payoffs\n",
        "    dai_price = np.exp(-r * T) * np.mean(dai_payoffs)\n",
        "    eu_price = np.exp(-r * T) * np.mean(put_payoffs)\n",
        "\n",
        "    # Calculate percentage of paths that hit the barrier\n",
        "    barrier_hit_percentage = np.mean(hits_barrier) * 100\n",
        "\n",
        "    return dai_price, eu_price, barrier_hit_percentage\n",
        "\n",
        "# Parameters from Question 8\n",
        "lamb = 0.75  # Jump intensity from Q8\n",
        "mu = -0.5    # Mean jump size\n",
        "delta = 0.22 # Jump size volatility\n",
        "r = 0.055    # Risk-free rate\n",
        "sigma = 0.35 # Volatility\n",
        "T = 1.0/4    # Maturity (3 months)\n",
        "S0 = 80      # Initial stock price\n",
        "K = 65       # Strike price\n",
        "B = 65       # Barrier level\n",
        "\n",
        "num_simulations = 5\n",
        "dai_prices = []\n",
        "eu_prices = []\n",
        "barrier_percentages = []\n",
        "\n",
        "for i in range(num_simulations):\n",
        "    dai_price, eu_price, barrier_percentage = monte_carlo_merton_barrier_put(\n",
        "        S0, K, B, T, r, sigma, lamb, mu, delta)\n",
        "    dai_prices.append(dai_price)\n",
        "    eu_prices.append(eu_price)\n",
        "    barrier_percentages.append(barrier_percentage)\n",
        "\n",
        "# Calculate average results\n",
        "avg_dai_price = np.mean(dai_prices)\n",
        "avg_eu_price = np.mean(eu_prices)\n",
        "avg_barrier_percentage = np.mean(barrier_percentages)\n",
        "\n",
        "# Print results\n",
        "print(\"\\nDown-and-In Put Option vs European Put Option (Merton Model)\")\n",
        "print(\"=\" * 65)\n",
        "print(f\"Parameters: S0={S0}, K={K}, B={B}, T={T}, r={r}, sigma={sigma}\")\n",
        "print(f\"Merton parameters: lambda={lamb}, mu={mu}, delta={delta}\")\n",
        "print(\"-\" * 65)\n",
        "print(f\"Down-and-In Put Price: {avg_dai_price:.4f}\")\n",
        "print(f\"European Put Price: {avg_eu_price:.4f}\")\n",
        "print(f\"Price Difference (EU - DAI): {avg_eu_price - avg_dai_price:.4f}\")\n",
        "print(f\"Price Ratio (DAI/EU): {avg_dai_price/avg_eu_price:.4f}\")\n",
        "print(f\"Percentage of paths hitting barrier: {avg_barrier_percentage:.2f}%\")\n",
        "print(\"=\" * 65)"
      ],
      "metadata": {
        "colab": {
          "base_uri": "https://localhost:8080/"
        },
        "id": "5qSqXoIft3eP",
        "outputId": "b489b315-253e-4dc6-9423-288e42fc30ab"
      },
      "execution_count": 16,
      "outputs": [
        {
          "output_type": "stream",
          "name": "stdout",
          "text": [
            "\n",
            "Down-and-In Put Option vs European Put Option (Merton Model)\n",
            "=================================================================\n",
            "Parameters: S0=80, K=65, B=65, T=0.25, r=0.055, sigma=0.35\n",
            "Merton parameters: lambda=0.75, mu=-0.5, delta=0.22\n",
            "-----------------------------------------------------------------\n",
            "Down-and-In Put Price: 2.7630\n",
            "European Put Price: 2.7630\n",
            "Price Difference (EU - DAI): 0.0000\n",
            "Price Ratio (DAI/EU): 1.0000\n",
            "Percentage of paths hitting barrier: 26.27%\n",
            "=================================================================\n"
          ]
        }
      ]
    }
  ]
}