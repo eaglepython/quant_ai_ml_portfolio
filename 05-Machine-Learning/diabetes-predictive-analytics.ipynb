{
  "cells": [
    {
      "cell_type": "markdown",
      "id": "3ab2be26",
      "metadata": {
        "id": "3ab2be26"
      },
      "source": [
        "# Predictive Analytics for Diabetes Management"
      ]
    },
    {
      "cell_type": "markdown",
      "id": "8e5b9037",
      "metadata": {
        "id": "8e5b9037"
      },
      "source": [
        "**Project Overview**\n",
        "\n",
        "Welcome to our predictive analytics project, an innovative endeavor aimed at revolutionizing diabetes management through advanced data science and machine learning. In this project, we harness the power of predictive models to identify individuals at high risk of developing diabetes, enabling earlier interventions and personalized healthcare strategies.\n",
        "\n",
        "**The Challenge**\n",
        "\n",
        "Diabetes is a global health issue affecting millions of people worldwide. Early detection and preventive care can significantly improve the quality of life and reduce the healthcare burden. However, traditional methods of diabetes prediction rely heavily on periodic medical testing, which may not capture risk factors early enough. Our project addresses this gap by utilizing readily available health data to predict diabetes risk more efficiently and effectively.\n",
        "\n",
        "**Our Approach**\n",
        "\n",
        "Leveraging the Pima Indians Diabetes Database, our project employs a systematic approach to data analysis:\n",
        "1. **Data Collection**: We gather comprehensive health metrics such as glucose levels, blood pressure, and BMI, which are critical in assessing diabetes risk.\n",
        "2. **Exploratory Data Analysis (EDA)**: Through detailed statistical analysis and visualizations, we explore data patterns and relationships that inform our predictive modeling.\n",
        "3. **Data Preprocessing**: We implement rigorous data cleaning and normalization techniques to prepare the dataset for optimal model performance.\n",
        "4. **Predictive Modeling**: Using logistic regression, a robust statistical method, we develop a model capable of predicting diabetes onset with high accuracy.\n",
        "5. **Deployment**: The predictive model is deployed using AWS SageMaker, providing a scalable and accessible platform for healthcare providers to utilize in real-time risk assessment.\n",
        "\n",
        "**Impact and Vision**\n",
        "\n",
        "Our project not only aims to enhance diabetes screening and prevention but also serves as a blueprint for applying predictive analytics in other areas of healthcare. By integrating data-driven insights into clinical practices, we envision a future where healthcare is more proactive, personalized, and preventive.\n",
        "\n",
        "**Join Us on This Journey**\n",
        "\n",
        "We invite you to join us in this transformative journey as we explore the frontiers of healthcare innovation. Together, we can make a significant impact on diabetes management and beyond, paving the way for a healthier future.\n",
        "\n"
      ]
    },
    {
      "cell_type": "markdown",
      "id": "729fdce8",
      "metadata": {
        "id": "729fdce8"
      },
      "source": [
        "Creating a predictive analytics project involves several key steps, from data collection to model deployment. Let's design a predictive analytics project for healthcare, specifically predicting diabetes among patients based on various health metrics. This project will use Python for data handling, analysis, and model building. For demonstration purposes, we'll use local machine resources, but I'll also outline how you could leverage AWS SageMaker for deployment."
      ]
    },
    {
      "cell_type": "markdown",
      "id": "6f507e21",
      "metadata": {
        "id": "6f507e21"
      },
      "source": [
        "### Step 1: Setting Up the Environment\n",
        "\n",
        "First, ensure you have Python and necessary libraries installed:"
      ]
    },
    {
      "cell_type": "code",
      "execution_count": null,
      "id": "06827256",
      "metadata": {
        "id": "06827256",
        "outputId": "40ed2afa-121f-4a6e-98ca-51b3b183f471"
      },
      "outputs": [
        {
          "data": {
            "text/plain": [
              "'\\npip install numpy pandas matplotlib scikit-learn\\n'"
            ]
          },
          "execution_count": 62,
          "metadata": {},
          "output_type": "execute_result"
        }
      ],
      "source": [
        "#run it on local (just remove the \" \")\n",
        "\"\"\"\n",
        "pip install numpy pandas matplotlib scikit-learn\n",
        "\"\"\""
      ]
    },
    {
      "cell_type": "markdown",
      "id": "3ebb9201",
      "metadata": {
        "id": "3ebb9201"
      },
      "source": [
        "### Step 2: Data Collection\n",
        "\n",
        "We'll use the Pima Indians Diabetes Database, which is readily available and widely used for diabetes prediction tasks. It includes data such as glucose levels, blood pressure, and other health measures."
      ]
    },
    {
      "cell_type": "code",
      "execution_count": null,
      "id": "5c4ef9a9",
      "metadata": {
        "id": "5c4ef9a9"
      },
      "outputs": [],
      "source": [
        "# Step 2: Data Collection\n",
        "\n",
        "import pandas as pd\n",
        "\n",
        "# Load data\n",
        "url = \"https://raw.githubusercontent.com/jbrownlee/Datasets/master/pima-indians-diabetes.data.csv\"\n",
        "columns = ['Pregnancies', 'Glucose', 'BloodPressure', 'SkinThickness', 'Insulin', 'BMI', 'DiabetesPedigreeFunction', 'Age', 'Outcome']\n",
        "data = pd.read_csv(url, names=columns)"
      ]
    },
    {
      "cell_type": "code",
      "execution_count": null,
      "id": "2d3e84c3",
      "metadata": {
        "id": "2d3e84c3",
        "outputId": "dc94de5f-1512-4121-af97-0f40dc0dcc9d"
      },
      "outputs": [
        {
          "data": {
            "text/html": [
              "<div>\n",
              "<style scoped>\n",
              "    .dataframe tbody tr th:only-of-type {\n",
              "        vertical-align: middle;\n",
              "    }\n",
              "\n",
              "    .dataframe tbody tr th {\n",
              "        vertical-align: top;\n",
              "    }\n",
              "\n",
              "    .dataframe thead th {\n",
              "        text-align: right;\n",
              "    }\n",
              "</style>\n",
              "<table border=\"1\" class=\"dataframe\">\n",
              "  <thead>\n",
              "    <tr style=\"text-align: right;\">\n",
              "      <th></th>\n",
              "      <th>Pregnancies</th>\n",
              "      <th>Glucose</th>\n",
              "      <th>BloodPressure</th>\n",
              "      <th>SkinThickness</th>\n",
              "      <th>Insulin</th>\n",
              "      <th>BMI</th>\n",
              "      <th>DiabetesPedigreeFunction</th>\n",
              "      <th>Age</th>\n",
              "      <th>Outcome</th>\n",
              "    </tr>\n",
              "  </thead>\n",
              "  <tbody>\n",
              "    <tr>\n",
              "      <th>0</th>\n",
              "      <td>6</td>\n",
              "      <td>148</td>\n",
              "      <td>72</td>\n",
              "      <td>35</td>\n",
              "      <td>0</td>\n",
              "      <td>33.6</td>\n",
              "      <td>0.627</td>\n",
              "      <td>50</td>\n",
              "      <td>1</td>\n",
              "    </tr>\n",
              "    <tr>\n",
              "      <th>1</th>\n",
              "      <td>1</td>\n",
              "      <td>85</td>\n",
              "      <td>66</td>\n",
              "      <td>29</td>\n",
              "      <td>0</td>\n",
              "      <td>26.6</td>\n",
              "      <td>0.351</td>\n",
              "      <td>31</td>\n",
              "      <td>0</td>\n",
              "    </tr>\n",
              "    <tr>\n",
              "      <th>2</th>\n",
              "      <td>8</td>\n",
              "      <td>183</td>\n",
              "      <td>64</td>\n",
              "      <td>0</td>\n",
              "      <td>0</td>\n",
              "      <td>23.3</td>\n",
              "      <td>0.672</td>\n",
              "      <td>32</td>\n",
              "      <td>1</td>\n",
              "    </tr>\n",
              "    <tr>\n",
              "      <th>3</th>\n",
              "      <td>1</td>\n",
              "      <td>89</td>\n",
              "      <td>66</td>\n",
              "      <td>23</td>\n",
              "      <td>94</td>\n",
              "      <td>28.1</td>\n",
              "      <td>0.167</td>\n",
              "      <td>21</td>\n",
              "      <td>0</td>\n",
              "    </tr>\n",
              "    <tr>\n",
              "      <th>4</th>\n",
              "      <td>0</td>\n",
              "      <td>137</td>\n",
              "      <td>40</td>\n",
              "      <td>35</td>\n",
              "      <td>168</td>\n",
              "      <td>43.1</td>\n",
              "      <td>2.288</td>\n",
              "      <td>33</td>\n",
              "      <td>1</td>\n",
              "    </tr>\n",
              "  </tbody>\n",
              "</table>\n",
              "</div>"
            ],
            "text/plain": [
              "   Pregnancies  Glucose  BloodPressure  SkinThickness  Insulin   BMI  \\\n",
              "0            6      148             72             35        0  33.6   \n",
              "1            1       85             66             29        0  26.6   \n",
              "2            8      183             64              0        0  23.3   \n",
              "3            1       89             66             23       94  28.1   \n",
              "4            0      137             40             35      168  43.1   \n",
              "\n",
              "   DiabetesPedigreeFunction  Age  Outcome  \n",
              "0                     0.627   50        1  \n",
              "1                     0.351   31        0  \n",
              "2                     0.672   32        1  \n",
              "3                     0.167   21        0  \n",
              "4                     2.288   33        1  "
            ]
          },
          "execution_count": 64,
          "metadata": {},
          "output_type": "execute_result"
        }
      ],
      "source": [
        "data.head(5)"
      ]
    },
    {
      "cell_type": "markdown",
      "id": "c8c4facd",
      "metadata": {
        "id": "c8c4facd"
      },
      "source": [
        "### Step 3: Exploratory Data Analysis (EDA)\n",
        "\n",
        "EDA helps understand the data, identify patterns, and potential issues."
      ]
    },
    {
      "cell_type": "code",
      "execution_count": null,
      "id": "1c8cd4c7",
      "metadata": {
        "id": "1c8cd4c7",
        "outputId": "79e17f66-5cfc-44ae-dd8e-2243cfae30d2"
      },
      "outputs": [
        {
          "name": "stdout",
          "output_type": "stream",
          "text": [
            "       Pregnancies     Glucose  BloodPressure  SkinThickness     Insulin  \\\n",
            "count   768.000000  768.000000     768.000000     768.000000  768.000000   \n",
            "mean      3.845052  120.894531      69.105469      20.536458   79.799479   \n",
            "std       3.369578   31.972618      19.355807      15.952218  115.244002   \n",
            "min       0.000000    0.000000       0.000000       0.000000    0.000000   \n",
            "25%       1.000000   99.000000      62.000000       0.000000    0.000000   \n",
            "50%       3.000000  117.000000      72.000000      23.000000   30.500000   \n",
            "75%       6.000000  140.250000      80.000000      32.000000  127.250000   \n",
            "max      17.000000  199.000000     122.000000      99.000000  846.000000   \n",
            "\n",
            "              BMI  DiabetesPedigreeFunction         Age     Outcome  \n",
            "count  768.000000                768.000000  768.000000  768.000000  \n",
            "mean    31.992578                  0.471876   33.240885    0.348958  \n",
            "std      7.884160                  0.331329   11.760232    0.476951  \n",
            "min      0.000000                  0.078000   21.000000    0.000000  \n",
            "25%     27.300000                  0.243750   24.000000    0.000000  \n",
            "50%     32.000000                  0.372500   29.000000    0.000000  \n",
            "75%     36.600000                  0.626250   41.000000    1.000000  \n",
            "max     67.100000                  2.420000   81.000000    1.000000  \n"
          ]
        },
        {
          "data": {
            "image/png": "[encoded data removed]",
            "text/plain": [
              "<Figure size 864x576 with 9 Axes>"
            ]
          },
          "metadata": {
            "needs_background": "light"
          },
          "output_type": "display_data"
        },
        {
          "name": "stdout",
          "output_type": "stream",
          "text": [
            "Pregnancies                 0\n",
            "Glucose                     0\n",
            "BloodPressure               0\n",
            "SkinThickness               0\n",
            "Insulin                     0\n",
            "BMI                         0\n",
            "DiabetesPedigreeFunction    0\n",
            "Age                         0\n",
            "Outcome                     0\n",
            "dtype: int64\n"
          ]
        }
      ],
      "source": [
        "import matplotlib.pyplot as plt\n",
        "\n",
        "# Basic statistics\n",
        "print(data.describe())\n",
        "\n",
        "# Histograms for distribution\n",
        "data.hist(figsize=(12, 8))\n",
        "plt.show()\n",
        "\n",
        "# Check for null values\n",
        "print(data.isnull().sum())"
      ]
    },
    {
      "cell_type": "markdown",
      "id": "ade9a09b",
      "metadata": {
        "id": "ade9a09b"
      },
      "source": [
        "The exploratory data analysis (EDA) of the Pima Indians Diabetes Database provides key insights into the distribution and characteristics of various health metrics that are related to diabetes. Let’s analyze the statistical summary of the dataset:\n",
        "\n",
        "#### Key Statistical Measures\n",
        "\n",
        "1. **Count**: Each column has 768 data points, indicating no missing values in the dataset columns used for summary statistics.\n",
        "\n",
        "2. **Mean**: The average values for each feature give us an idea of the central tendency. For example, the average glucose level is about 121, which is crucial for identifying diabetes risk.\n",
        "\n",
        "3. **Standard Deviation (std)**: This indicates the amount of variation or dispersion in the data. For instance, glucose levels have a standard deviation of approximately 32, suggesting a wide range of values around the mean, which is typical given individual health differences.\n",
        "\n",
        "4. **Min and Max Values**: The range (from minimum to maximum) provides insights into the spread of the data. The wide range in insulin levels (0 to 846) could indicate diverse patient profiles, from non-diabetic to those requiring significant insulin management.\n",
        "\n",
        "5. **25%, 50% (Median), and 75% Percentiles**:\n",
        "   - These values (also known as quartiles) provide a deeper understanding of the distribution. For glucose, 25% of the people have a level below 99, half below 117, and 75% below 140.25, indicating a skewed distribution toward higher glucose levels.\n",
        "\n",
        "#### Observations and Interpretations\n",
        "\n",
        "- **Zeros in Data**: The presence of 0 in features like Glucose, BloodPressure, SkinThickness, Insulin, and BMI, where biologically they should not be zero, suggests missing or improperly recorded data. These need to be treated either by imputation or exclusion, depending on their impact on the analysis.\n",
        "\n",
        "- **Pregnancies**: The data ranges from 0 to 17 pregnancies. A higher number of pregnancies can be a risk factor for diabetes, making this an important feature for prediction.\n",
        "\n",
        "- **Age**: The participants range from 21 to 81 years old, with a mean age of around 33 years. Age is a crucial factor as the risk of diabetes increases with age.\n",
        "\n",
        "- **Outcome( 0 or 1 : presence or not of diabetes**: The mean of 0.35 approximates the proportion of positive diabetes cases in the dataset (approximately 35%), indicating a significant number of cases for analysis.\n",
        "\n",
        "#### Deeper Insights\n",
        "\n",
        "- **Insulin and Diabetes**: The high standard deviation in insulin levels suggests significant variability, which is expected given the diverse treatment needs among diabetics.\n",
        "\n",
        "- **BMI and Diabetes Risk**: BMI is a key indicator of diabetes risk. The average BMI is close to 32 (obese category), aligning with higher diabetes risk.\n",
        "\n",
        "- **Diabetes Pedigree Function**: This feature, representing genetic influence, varies significantly, indicating varied genetic predispositions among individuals.\n",
        "\n",
        "#### Conclusion and Further Analysis\n",
        "\n",
        "This EDA provides a solid foundation for predictive modeling. Understanding these distributions and relationships will help in feature engineering (e.g., handling zeros, creating age categories, interactions between features like BMI and glucose levels). The next steps would include more granular analyses like checking for outliers, correlation analysis, and potential multicollinearity among features before moving on to model building.\n"
      ]
    },
    {
      "cell_type": "markdown",
      "id": "008fc779",
      "metadata": {
        "id": "008fc779"
      },
      "source": [
        "#### Deeper Analysis\n",
        "\n",
        "we are now doing futher analysis of the dataset, including checking for outliers, performing correlation analysis, and assessing potential multicollinearity among features."
      ]
    },
    {
      "cell_type": "code",
      "execution_count": null,
      "id": "2c8bb901",
      "metadata": {
        "id": "2c8bb901"
      },
      "outputs": [],
      "source": [
        "import pandas as pd\n",
        "import numpy as np\n",
        "import seaborn as sns\n",
        "import matplotlib.pyplot as plt"
      ]
    },
    {
      "cell_type": "markdown",
      "id": "fdde5962",
      "metadata": {
        "id": "fdde5962"
      },
      "source": [
        "##### Checking for Outliers\n",
        "Outliers can significantly impact the performance of a machine learning model, especially linear models. We'll use boxplots to visually inspect for outliers."
      ]
    },
    {
      "cell_type": "code",
      "execution_count": null,
      "id": "6bef92ed",
      "metadata": {
        "id": "6bef92ed",
        "outputId": "c32dc859-84af-403f-f991-caaf9c4a65a2"
      },
      "outputs": [
        {
          "data": {
            "image/png": "[encoded data removed]",
            "text/plain": [
              "<Figure size 864x432 with 1 Axes>"
            ]
          },
          "metadata": {
            "needs_background": "light"
          },
          "output_type": "display_data"
        }
      ],
      "source": [
        "# Plotting boxplots for continuous features\n",
        "features = ['Glucose', 'BloodPressure', 'SkinThickness', 'Insulin', 'BMI', 'DiabetesPedigreeFunction', 'Age']\n",
        "plt.figure(figsize=(12, 6))\n",
        "data[features].boxplot()\n",
        "plt.title('Boxplot of Continuous Features')\n",
        "plt.show()\n"
      ]
    },
    {
      "cell_type": "markdown",
      "id": "8ad73c75",
      "metadata": {
        "id": "8ad73c75"
      },
      "source": [
        "##### Correlation Analysis\n",
        "\n",
        "Correlation analysis helps us understand the relationships between different features. This is crucial for identifying features that might provide similar information."
      ]
    },
    {
      "cell_type": "code",
      "execution_count": null,
      "id": "3aafb0e1",
      "metadata": {
        "id": "3aafb0e1",
        "outputId": "30ec910a-733d-418c-db46-a279505b62fd"
      },
      "outputs": [
        {
          "data": {
            "image/png": "[encoded data removed]",
            "text/plain": [
              "<Figure size 720x576 with 2 Axes>"
            ]
          },
          "metadata": {
            "needs_background": "light"
          },
          "output_type": "display_data"
        }
      ],
      "source": [
        "# Calculating correlation matrix\n",
        "corr_matrix = data[features + ['Outcome']].corr()\n",
        "\n",
        "# Plotting the heatmap\n",
        "plt.figure(figsize=(10, 8))\n",
        "sns.heatmap(corr_matrix, annot=True, fmt=\".2f\", cmap='coolwarm')\n",
        "plt.title('Correlation Heatmap')\n",
        "plt.show()\n"
      ]
    },
    {
      "cell_type": "markdown",
      "id": "2822b274",
      "metadata": {
        "id": "2822b274"
      },
      "source": [
        "Based on the correlation heatmap you've provided, we can analyze and interpret the relationships between different health metrics in the dataset and their correlation with the diabetes outcome. Here's a detailed interpretation:\n",
        "\n",
        "###### Understanding the Heatmap\n",
        "\n",
        "The heatmap shows the Pearson correlation coefficients between various features. The coefficients range from -1 to 1, where:\n",
        "- **1** indicates a perfect positive correlation.\n",
        "- **-1** indicates a perfect negative correlation.\n",
        "- **0** indicates no correlation.\n",
        "\n",
        "###### Interpretations of Key Correlations\n",
        "\n",
        "1. **Glucose and Outcome (0.47)**:\n",
        "   - This is one of the highest positive correlations observed with the outcome. Higher glucose levels are strongly associated with the presence of diabetes, which is consistent with medical knowledge that glucose levels are a critical factor in diabetes diagnosis.\n",
        "\n",
        "2. **BMI and Outcome (0.29)**:\n",
        "   - There's a moderate positive correlation between BMI and diabetes. Higher BMI values, which indicate overweight or obesity, can increase the risk of developing diabetes.\n",
        "\n",
        "3. **Age and Outcome (0.24)**:\n",
        "   - Age shows a moderate positive correlation with diabetes. The risk of developing diabetes increases with age, which aligns with the understanding that aging populations have a higher propensity for type 2 diabetes.\n",
        "\n",
        "4. **Insulin and SkinThickness (0.44)**:\n",
        "   - There is a moderate positive correlation between insulin levels and skin thickness. This can be attributed to the fact that both these parameters change with alterations in body metabolism and fat distribution, which are influenced by insulin resistance—a key factor in diabetes.\n",
        "\n",
        "5. **Blood Pressure and BMI (0.28)**:\n",
        "   - A moderate positive correlation exists here, suggesting that as BMI increases, blood pressure tends to be higher. Both high blood pressure and high BMI are risk factors for many cardiovascular diseases and diabetes.\n",
        "\n",
        "6. **SkinThickness and BMI (0.39)**:\n",
        "   - This moderate correlation indicates that higher BMI is often associated with greater skin thickness, which might be due to increased fat deposits under the skin.\n",
        "\n",
        "###### Low or No Significant Correlations\n",
        "\n",
        "- **DiabetesPedigreeFunction and most variables** show very low correlations, suggesting that while this genetic factor is important, it does not have a strong linear relationship with other individual health metrics in the dataset.\n",
        "\n",
        "###### Conclusions and Actions\n",
        "\n",
        "- **Strong Predictors**: Glucose, BMI, and Age are strong predictors for diabetes and should be considered key features in predictive modeling.\n",
        "- **Multicollinearity Concern**: Moderate correlations between predictors like Insulin and SkinThickness, and Blood Pressure and BMI, indicate potential multicollinearity. While they are not excessively high (e.g., above 0.8), care should be taken when using these features together in a model.\n",
        "- **Feature Engineering and Selection**: The insights from this correlation analysis can guide feature selection and engineering. For instance, creating interaction terms or composite indices from correlated features might capture combined effects on diabetes risk more effectively.\n"
      ]
    },
    {
      "cell_type": "markdown",
      "id": "fb9937ed",
      "metadata": {
        "id": "fb9937ed"
      },
      "source": [
        "##### Assessing Multicollinearity\n",
        "\n",
        "Multicollinearity occurs when two or more predictors in a regression model are highly correlated. This can make the model unstable by increasing the variance of the coefficient estimates and making the model harder to interpret.\n",
        "\n",
        "    Variance Inflation Factor (VIF) is a common method to check for multicollinearity. A VIF value greater than 10 is typically considered indicative of multicollinearity."
      ]
    },
    {
      "cell_type": "code",
      "execution_count": null,
      "id": "5a08db3f",
      "metadata": {
        "id": "5a08db3f"
      },
      "outputs": [],
      "source": [
        "def calculate_vif(data, features):\n",
        "    X = data[features].copy()\n",
        "    X['Intercept'] = 1  # Adding an intercept column for VIF calculation safely\n",
        "    vif = pd.DataFrame()\n",
        "    vif[\"Variable\"] = X.columns\n",
        "    vif[\"VIF\"] = [variance_inflation_factor(X.values, i) for i in range(X.shape[1])]\n",
        "    return vif.drop(columns=['Intercept'])  # Ensuring correct column drop\n"
      ]
    },
    {
      "cell_type": "code",
      "execution_count": null,
      "id": "b72986c6",
      "metadata": {
        "id": "b72986c6",
        "outputId": "b06c410f-5d86-40e1-a82d-fbcb176a4c04"
      },
      "outputs": [
        {
          "name": "stdout",
          "output_type": "stream",
          "text": [
            "                   Variable       VIF\n",
            "0               Pregnancies  1.430872\n",
            "1                   Glucose  1.298961\n",
            "2             BloodPressure  1.181863\n",
            "3             SkinThickness  1.507432\n",
            "4                   Insulin  1.427536\n",
            "5                       BMI  1.297450\n",
            "6  DiabetesPedigreeFunction  1.067090\n",
            "7                       Age  1.588368\n"
          ]
        }
      ],
      "source": [
        "from statsmodels.stats.outliers_influence import variance_inflation_factor\n",
        "\n",
        "def calculate_vif(data, features):\n",
        "    # Create a copy of the data with only the features of interest\n",
        "    X = data[features].copy()\n",
        "\n",
        "    # Adding an intercept column for VIF calculation\n",
        "    X['Intercept'] = 1\n",
        "\n",
        "    # Prepare DataFrame to store VIF values\n",
        "    vif = pd.DataFrame()\n",
        "    vif[\"Variable\"] = X.columns\n",
        "\n",
        "    # Calculate VIF for each feature including the Intercept\n",
        "    vif[\"VIF\"] = [variance_inflation_factor(X.values, i) for i in range(X.shape[1])]\n",
        "\n",
        "    # Drop the 'Intercept' column from the VIF DataFrame before returning\n",
        "    vif = vif[vif['Variable'] != 'Intercept']\n",
        "    return vif\n",
        "\n",
        "# Example usage\n",
        "# Define features list if not already defined\n",
        "features = ['Pregnancies', 'Glucose', 'BloodPressure', 'SkinThickness', 'Insulin', 'BMI', 'DiabetesPedigreeFunction', 'Age']\n",
        "vif_data = calculate_vif(data, features)\n",
        "print(vif_data)\n",
        "\n"
      ]
    },
    {
      "cell_type": "markdown",
      "id": "cee89853",
      "metadata": {
        "id": "cee89853"
      },
      "source": [
        "The Variance Inflation Factor (VIF) is a measure that quantifies how much the variance of an estimated regression coefficient increases if your predictors are correlated. If no factors are correlated, the VIFs will be 1.\n",
        "\n",
        "Here's what the VIF values from your results indicate:\n",
        "\n",
        "###### Interpretation of VIF Results:\n",
        "\n",
        "- **VIF = 1**: Not correlated.\n",
        "- **1 < VIF < 5**: Moderately correlated.\n",
        "- **VIF >= 5**: Highly correlated (some sources use a higher threshold of 10).\n",
        "\n",
        "According to your results:\n",
        "\n",
        "1. **Pregnancies (VIF = 1.430872)**: This suggests a low level of multicollinearity. Pregnancies have a slight correlation with other variables but nothing too significant.\n",
        "\n",
        "2. **Glucose (VIF = 1.298961)**: Very low multicollinearity. This indicates that glucose is mostly independent of other variables, which is excellent for a model since glucose is a crucial factor in diabetes prediction.\n",
        "\n",
        "3. **Blood Pressure (VIF = 1.181863)**: Similar to glucose, blood pressure shows very low multicollinearity, suggesting it acts independently in the context of these variables.\n",
        "\n",
        "4. **Skin Thickness (VIF = 1.507432)**: Again, this shows low multicollinearity. It’s slightly higher than some other variables, suggesting a mild correlation with others, possibly with BMI or insulin.\n",
        "\n",
        "5. **Insulin (VIF = 1.427536)**: Low multicollinearity, indicating that while insulin levels might show some relation to other measurements like skin thickness or BMI, it is largely independent.\n",
        "\n",
        "6. **BMI (VIF = 1.297450)**: Very low multicollinearity. BMI is an important independent predictor which does not overlap significantly with others in terms of explaining the variability in the outcome.\n",
        "\n",
        "7. **Diabetes Pedigree Function (VIF = 1.067090)**: This has the lowest VIF, indicating it is the most independent of all the features studied. This supports the use of the diabetes pedigree function as a unique contributor to the model.\n",
        "\n",
        "8. **Age (VIF = 1.588368)**: Shows low multicollinearity. It is slightly more correlated with other features than some of the other variables but is still well below the threshold of concern.\n",
        "\n",
        "###### Overall Interpretation:\n",
        "\n",
        "All VIF values are well below 5, indicating there are no concerning multicollinearity issues among the features you're considering for your predictive model. This is beneficial because it suggests that each variable provides unique information that can help in predicting diabetes, without overly inflating the variance of the estimates due to multicollinearity. This enhances the stability and reliability of your model.\n",
        "\n",
        "the model is on solid ground with respect to the independence of features, and we can proceed with building our predictive model without concerns about multicollinearity affecting the interpretations of these predictors."
      ]
    },
    {
      "cell_type": "markdown",
      "id": "4e7cbbcc",
      "metadata": {
        "id": "4e7cbbcc"
      },
      "source": [
        "# Step 4: Data Preprocessing\n",
        "\n",
        "We need to handle missing values, scale data, and split it into training and testing datasets."
      ]
    },
    {
      "cell_type": "code",
      "execution_count": null,
      "id": "a49da323",
      "metadata": {
        "id": "a49da323",
        "outputId": "2514c58b-e93e-4a1f-c2a0-f032b09bee9a"
      },
      "outputs": [
        {
          "name": "stderr",
          "output_type": "stream",
          "text": [
            "C:\\Users\\josep\\AppData\\Local\\Temp/ipykernel_25924/229179923.py:7: FutureWarning: Downcasting object dtype arrays on .fillna, .ffill, .bfill is deprecated and will change in a future version. Call result.infer_objects(copy=False) instead. To opt-in to the future behavior, set `pd.set_option('future.no_silent_downcasting', True)`\n",
            "  data.fillna(data.mean(), inplace=True)\n"
          ]
        }
      ],
      "source": [
        "from sklearn.model_selection import train_test_split\n",
        "from sklearn.preprocessing import StandardScaler\n",
        "\n",
        "# Replace zeros with NaN, then fill NaN with the mean of the column\n",
        "columns_to_replace = ['Glucose', 'BloodPressure', 'SkinThickness', 'Insulin', 'BMI']\n",
        "data[columns_to_replace] = data[columns_to_replace].replace(0, pd.NA)\n",
        "data.fillna(data.mean(), inplace=True)\n",
        "\n",
        "# Feature scaling\n",
        "scaler = StandardScaler()\n",
        "data[columns_to_replace] = scaler.fit_transform(data[columns_to_replace])\n",
        "\n",
        "# Split data\n",
        "X = data.drop('Outcome', axis=1)\n",
        "y = data['Outcome']\n",
        "X_train, X_test, y_train, y_test = train_test_split(X, y, test_size=0.2, random_state=42)"
      ]
    },
    {
      "cell_type": "markdown",
      "id": "1ffe4b45",
      "metadata": {
        "id": "1ffe4b45"
      },
      "source": [
        "# Step 5: Model Building\n",
        "\n"
      ]
    },
    {
      "cell_type": "markdown",
      "id": "ddb6e4df",
      "metadata": {
        "id": "ddb6e4df"
      },
      "source": [
        "Choosing the appropriate model for a predictive analytics task, like predicting diabetes from medical data, involves evaluating several factors, including the nature of the target variable, the distribution and characteristics of the features, computational efficiency, and the interpretability of the model. Here’s why logistic regression is a fitting choice for this scenario based on the results and analysis conducted:\n",
        "\n",
        "### Reasons for Choosing Logistic Regression\n",
        "\n",
        "1. **Binary Outcome**: The primary outcome variable, 'Outcome', is binary (0 or 1, representing the absence or presence of diabetes). Logistic regression is specifically designed for binary classification tasks, making it naturally suited for this problem.\n",
        "\n",
        "2. **Interpretability**: Logistic regression provides great interpretability. Each feature's coefficient can be directly associated with its odds ratio, offering clear insights into how each predictor affects the likelihood of having diabetes. This is particularly important in healthcare, where understanding the influence of predictors is as crucial as the prediction itself.\n",
        "\n",
        "3. **Low Multicollinearity**: The Variance Inflation Factor (VIF) analysis shows low multicollinearity among predictors, which is ideal for logistic regression. High multicollinearity can distort the estimated relationship between features and the outcome, leading to unreliable and unstable estimates of regression coefficients.\n",
        "\n",
        "4. **Performance with Smaller Datasets**: The dataset, while not tiny, is not large by modern machine learning standards (768 observations). Logistic regression is effective for moderate-sized datasets and does not require as large a sample size as more complex models like deep learning to achieve stable estimates.\n",
        "\n",
        "5. **Baseline Model**: Logistic regression is often used as a baseline in binary classification problems. Its performance provides a benchmark to compare against more complex algorithms, ensuring that any increase in complexity is justified by a significant improvement in performance.\n",
        "\n",
        "### Why Not Other Models?\n",
        "\n",
        "While logistic regression is a robust choice, other models could potentially be used, depending on the project's needs. Here’s why they might not be the first choice:\n",
        "\n",
        "1. **Decision Trees and Random Forests**: These can handle nonlinear relationships and interactions between features better than logistic regression. However, they can be prone to overfitting, especially with smaller datasets. They are also less interpretable in comparison to logistic regression, which can be a drawback in clinical settings.\n",
        "\n",
        "2. **SVM (Support Vector Machines)**: SVMs are powerful for binary classification problems and can handle both linear and nonlinear boundaries. However, they require more computational resources and are less interpretable due to their reliance on kernel transformations.\n",
        "\n",
        "3. **Neural Networks**: These are highly flexible and can model complex relationships. However, they require large amounts of data, significant computational power, and can lead to models that are very difficult to interpret. They also risk overfitting with smaller datasets.\n",
        "\n",
        "4. **Naive Bayes**: This model assumes independence between predictors, an assumption that is rarely true in real-world scenarios and can lead to biased results, despite its simplicity and efficiency in certain types of classification problems.\n",
        "\n",
        "### Conclusion\n",
        "\n",
        "In summary, logistic regression's suitability for binary outcomes, its interpretability, effectiveness with the available data size, and relatively low assumptions about the data distribution make it an excellent starting point for this diabetes prediction model. As the project progresses, comparing its performance with alternative models might provide insights and potentially better performance but at the cost of complexity and interpretability."
      ]
    },
    {
      "cell_type": "code",
      "execution_count": null,
      "id": "8ad3659c",
      "metadata": {
        "id": "8ad3659c",
        "outputId": "55f4f12b-82f4-499f-b9f0-e1ba754aeae6"
      },
      "outputs": [
        {
          "name": "stdout",
          "output_type": "stream",
          "text": [
            "Accuracy: 0.7532467532467533\n",
            "Confusion Matrix:\n",
            " [[82 17]\n",
            " [21 34]]\n"
          ]
        }
      ],
      "source": [
        "from sklearn.linear_model import LogisticRegression\n",
        "from sklearn.metrics import accuracy_score, confusion_matrix\n",
        "\n",
        "# Model initialization and training\n",
        "model = LogisticRegression()\n",
        "model.fit(X_train, y_train)\n",
        "\n",
        "# Predictions\n",
        "predictions = model.predict(X_test)\n",
        "\n",
        "# Evaluation\n",
        "print(\"Accuracy:\", accuracy_score(y_test, predictions))\n",
        "print(\"Confusion Matrix:\\n\", confusion_matrix(y_test, predictions))"
      ]
    },
    {
      "cell_type": "markdown",
      "id": "b307f640",
      "metadata": {
        "id": "b307f640"
      },
      "source": [
        "Let's dive deep into the results of your logistic regression model, focusing on its accuracy and the details provided by the confusion matrix. We'll also consider the practical consequences of these results in the context of predicting diabetes.\n",
        "\n",
        "##### Results Overview\n",
        "\n",
        "- **Accuracy**: 75.32%\n",
        "- **Confusion Matrix**:\n",
        "  ```\n",
        "  [[82, 17]\n",
        "   [21, 34]]\n",
        "  ```\n",
        "\n",
        "##### Breaking Down the Confusion Matrix\n",
        "\n",
        "The confusion matrix is a powerful tool for understanding the performance of a classification model beyond mere accuracy. It provides the numbers of true positives, true negatives, false positives, and false negatives. Here’s what each term means in your case:\n",
        "\n",
        "- **True Negatives (TN = 82)**: The model correctly predicted 'no diabetes' for 82 cases.\n",
        "- **False Positives (FP = 17)**: The model incorrectly predicted 'diabetes' when the patient did not have it.\n",
        "- **False Negatives (FN = 21)**: The model incorrectly predicted 'no diabetes' when the patient actually had diabetes.\n",
        "- **True Positives (TP = 34)**: The model correctly predicted 'diabetes' for 34 cases.\n",
        "\n",
        "##### Graphical Interpretation\n",
        "\n",
        "To visually analyze these results, we can use a couple of charts:\n",
        "\n",
        "1. **Confusion Matrix Heatmap**:\n",
        "   - This will help us visualize the actual vs. predicted classifications.\n"
      ]
    },
    {
      "cell_type": "code",
      "execution_count": null,
      "id": "09ad2adf",
      "metadata": {
        "id": "09ad2adf",
        "outputId": "6cb77987-d207-4562-ef0d-fd8bb5fd640b"
      },
      "outputs": [
        {
          "data": {
            "image/png": "[encoded data removed]",
            "text/plain": [
              "<Figure size 576x432 with 1 Axes>"
            ]
          },
          "metadata": {
            "needs_background": "light"
          },
          "output_type": "display_data"
        }
      ],
      "source": [
        "import seaborn as sns\n",
        "import matplotlib.pyplot as plt\n",
        "from sklearn.metrics import roc_curve, auc\n",
        "\n",
        "# Confusion Matrix Heatmap\n",
        "plt.figure(figsize=(8, 6))\n",
        "sns.heatmap(confusion_matrix(y_test, predictions), annot=True, fmt='d', cmap='Blues', cbar=False)\n",
        "plt.xlabel('Predicted Label')\n",
        "plt.ylabel('True Label')\n",
        "plt.title('Confusion Matrix')\n",
        "plt.show()"
      ]
    },
    {
      "cell_type": "markdown",
      "id": "5d75d9f5",
      "metadata": {
        "id": "5d75d9f5"
      },
      "source": [
        "2. **ROC Curve**:\n",
        "   - This shows the trade-off between sensitivity (true positive rate) and specificity (false positive rate) across various thresholds. It's useful for seeing how well the model discriminates between the two classes."
      ]
    },
    {
      "cell_type": "code",
      "execution_count": null,
      "id": "0e1f9a9c",
      "metadata": {
        "id": "0e1f9a9c",
        "outputId": "d4d263d8-1bec-4db2-8887-a3aae2bfe88f"
      },
      "outputs": [
        {
          "data": {
            "image/png": "[encoded data removed]",
            "text/plain": [
              "<Figure size 576x432 with 1 Axes>"
            ]
          },
          "metadata": {
            "needs_background": "light"
          },
          "output_type": "display_data"
        }
      ],
      "source": [
        "fpr, tpr, thresholds = roc_curve(y_test, model.predict_proba(X_test)[:, 1])\n",
        "roc_auc = auc(fpr, tpr)\n",
        "\n",
        "plt.figure(figsize=(8, 6))\n",
        "plt.plot(fpr, tpr, color='darkorange', lw=2, label='ROC curve (area = %0.2f)' % roc_auc)\n",
        "plt.plot([0, 1], [0, 1], color='navy', lw=2, linestyle='--')\n",
        "plt.xlim([0.0, 1.0])\n",
        "plt.ylim([0.0, 1.05])\n",
        "plt.xlabel('False Positive Rate')\n",
        "plt.ylabel('True Positive Rate')\n",
        "plt.title('Receiver Operating Characteristic (ROC) Curve')\n",
        "plt.legend(loc=\"lower right\")\n",
        "plt.show()"
      ]
    },
    {
      "cell_type": "markdown",
      "id": "d665c21e",
      "metadata": {
        "id": "d665c21e"
      },
      "source": [
        "Consequences and Clinical Implications\n",
        "\n",
        "    Accuracy (75.32%): While this indicates that the model is fairly reliable, the consequence of a 24.68% error rate in a medical context is significant. Incorrect predictions can lead to unnecessary treatments (in the case of false positives) or missed treatments (in the case of false negatives).\n",
        "\n",
        "    High False Negative Rate: The 21 false negatives are particularly concerning in a healthcare setting because missing    these diagnoses means patients who need treatment might not receive it in time, potentially leading to severe health complications.\n",
        "\n",
        "    ROC Curve and AUC: The area under the ROC curve (AUC) will provide a single measure of overall performance irrespective of the decision threshold, and seeing this metric helps us understand the trade-offs involved. An AUC closer to 1 indicates excellent model performance.\n",
        "\n",
        "Conclusion\n",
        "\n",
        "The logistic regression model shows a decent start, but there's room for improvement, especially in reducing false negatives. You might consider experimenting with different thresholds for classification or try more sophisticated models or ensemble methods that could improve sensitivity without sacrificing specificity. Also, addressing any imbalances in the dataset or feature engineering could enhance performance.\n"
      ]
    },
    {
      "cell_type": "markdown",
      "id": "f424f289",
      "metadata": {
        "id": "f424f289"
      },
      "source": [
        "# Step 6 Improvement of the model"
      ]
    },
    {
      "cell_type": "markdown",
      "id": "007f6056",
      "metadata": {
        "id": "007f6056"
      },
      "source": [
        "Improving the model involves several strategies, each targeting different aspects of the machine learning process. Given the existing results and the nature of the problem, here are some methods you might consider to enhance the performance of your logistic regression model for predicting diabetes:"
      ]
    },
    {
      "cell_type": "markdown",
      "id": "ade2cbdc",
      "metadata": {
        "id": "ade2cbdc"
      },
      "source": [
        "##### 1. **Implementation Example: Hyperparameter Tuning**\n",
        "\n",
        "Here's an example of how you might use grid search to optimize the logistic regression model:"
      ]
    },
    {
      "cell_type": "code",
      "execution_count": null,
      "id": "c0cf8d13",
      "metadata": {
        "id": "c0cf8d13",
        "outputId": "4900b59d-4fe0-4884-ba50-dff9ef5c62c8"
      },
      "outputs": [
        {
          "name": "stdout",
          "output_type": "stream",
          "text": [
            "Best parameters: {'C': 0.1, 'penalty': 'l1', 'solver': 'liblinear'}\n",
            "Best cross-validation score: 0.77\n",
            "Accuracy: 0.7792207792207793\n",
            "Confusion Matrix:\n",
            " [[84 15]\n",
            " [19 36]]\n"
          ]
        }
      ],
      "source": [
        "#Usage of grid search to optimize the logistic regression model:\n",
        "\n",
        "\n",
        "from sklearn.model_selection import GridSearchCV\n",
        "\n",
        "# Define the model\n",
        "model = LogisticRegression()\n",
        "\n",
        "# Define the parameter grid\n",
        "param_grid = {\n",
        "    'C': [0.001, 0.01, 0.1, 1, 10, 100],\n",
        "    'penalty': ['l1', 'l2'],\n",
        "    'solver': ['liblinear']  # 'liblinear' works well with l1 and l2 penalties\n",
        "}\n",
        "\n",
        "# Setup the grid search\n",
        "grid = GridSearchCV(model, param_grid, cv=5, scoring='accuracy')\n",
        "\n",
        "# Fit the grid search model\n",
        "grid.fit(X_train, y_train)\n",
        "\n",
        "print(\"Best parameters:\", grid.best_params_)\n",
        "print(\"Best cross-validation score: {:.2f}\".format(grid.best_score_))\n",
        "\n",
        "# Evaluate the model\n",
        "best_model = grid.best_estimator_\n",
        "predictions = best_model.predict(X_test)\n",
        "print(\"Accuracy:\", accuracy_score(y_test, predictions))\n",
        "print(\"Confusion Matrix:\\n\", confusion_matrix(y_test, predictions))\n"
      ]
    },
    {
      "cell_type": "markdown",
      "id": "f947931e",
      "metadata": {
        "id": "f947931e"
      },
      "source": [
        "The results from optimizing your logistic regression model with grid search reveal an improvement over your initial model. Here's a detailed interpretation of the outcomes, including the best parameters and the performance metrics:\n",
        "\n",
        "##### Interpretation of Model Parameters and Performance\n",
        "\n",
        "1. **Best Parameters**:\n",
        "   - **`C` (0.1)**: This is the inverse of the regularization strength. A smaller value of `C` suggests that the model benefits from stronger regularization, which helps prevent overfitting by penalizing larger coefficients in the model.\n",
        "   - **`Penalty` ('l1')**: The L1 penalty (also known as Lasso regularization) encourages sparsity in the model coefficients. This means it can help in feature selection by reducing some model coefficients to zero, keeping only the most important features in the model.\n",
        "   - **`Solver` ('liblinear')**: This solver is well-suited for small datasets and binary classification, and is capable of handling L1 penalty.\n",
        "\n",
        "2. **Cross-Validation Score (0.77)**:\n",
        "   - This score is higher than your initial accuracy (0.7532), suggesting an improvement in overall model performance when evaluated across different subsets of the training data. Cross-validation provides a more robust estimate of model performance compared to a single train-test split by reducing the variance associated with random sampling of the train and test sets.\n",
        "\n",
        "3. **Test Accuracy (0.7792)**:\n",
        "   - This is the accuracy of the model on the unseen test dataset. It has improved compared to the initial model, indicating that the optimized model is better at generalizing to new data. The increase in accuracy, while modest, is a positive indicator of the effectiveness of the hyperparameter tuning.\n",
        "\n",
        "4. **Confusion Matrix**:\n",
        "   ```\n",
        "   [[84, 15]\n",
        "    [19, 36]]\n",
        "   ```\n",
        "   - **True Negatives (TN = 84)**: The model correctly predicted 'no diabetes' for 84 cases.\n",
        "   - **False Positives (FP = 15)**: The model incorrectly predicted 'diabetes' for 15 cases. This is a decrease from 17 in the initial model, indicating a slight improvement in the model's specificity.\n",
        "   - **False Negatives (FN = 19)**: The model incorrectly predicted 'no diabetes' for 19 cases. This is an improvement from 21 in the initial model, indicating a slight improvement in the model's sensitivity.\n",
        "   - **True Positives (TP = 36)**: The model correctly predicted 'diabetes' for 36 cases, which is an increase from 34. This improvement in identifying positive cases is crucial for clinical settings where failing to detect a condition can have serious consequences.\n",
        "\n",
        "##### Graphical Analysis\n",
        "\n",
        "To further interpret these results, you might consider plotting an updated ROC curve and recalculating the AUC to visualize improvements in the model's ability to discriminate between the positive and negative classes. Additionally, examining the changes in precision and recall, as well as the F1 score, would provide deeper insights into the trade-offs between catching as many true positives as possible while minimizing false positives.\n",
        "\n",
        "##### Clinical and Practical Implications\n",
        "\n",
        "- **Reduction in False Negatives**: The decrease in false negatives is particularly significant in a medical context, as it reduces the risk of failing to treat patients who need intervention.\n",
        "- **Increased True Positives**: More accurate identification of diabetic cases means that more patients who need treatment would receive it timely.\n",
        "- **Balance between Precision and Recall**: While improving the recall (sensitivity), it's also crucial to maintain precision to ensure that the treatment resources are not misallocated to false positives.\n",
        "\n",
        "### Conclusion\n",
        "\n",
        "The optimization of the logistic regression model through hyperparameter tuning has led to measurable improvements in accuracy, sensitivity, and specificity. This demonstrates the value of carefully tuning the model parameters and regularizing the model to enhance prediction quality in practical applications. Further incremental improvements could possibly be achieved by exploring more complex models or ensemble techniques, alongside continued refinement of feature engineering and balancing techniques."
      ]
    },
    {
      "cell_type": "code",
      "execution_count": null,
      "id": "60fc35ec",
      "metadata": {
        "id": "60fc35ec"
      },
      "outputs": [],
      "source": []
    },
    {
      "cell_type": "code",
      "execution_count": null,
      "id": "3514461d",
      "metadata": {
        "id": "3514461d"
      },
      "outputs": [],
      "source": []
    },
    {
      "cell_type": "markdown",
      "id": "b8fff79f",
      "metadata": {
        "id": "b8fff79f"
      },
      "source": [
        "# Step 7 Others methods (Do not Run, just implimentations provided)\n",
        "\n",
        "For the Rest , Need more setting up"
      ]
    },
    {
      "cell_type": "code",
      "execution_count": null,
      "id": "314121a9",
      "metadata": {
        "id": "314121a9"
      },
      "outputs": [],
      "source": []
    },
    {
      "cell_type": "markdown",
      "id": "d126d72f",
      "metadata": {
        "id": "d126d72f"
      },
      "source": [
        "##### 2. **Feature Engineering**\n",
        "\n",
        "- **New Features**: Create new features from existing data, such as interactions between terms (e.g., Glucose*BMI) or polynomial features (e.g., square/cube of age). This can help in capturing non-linear relationships.\n",
        "  \n",
        "- **Rescale Features**: Although you've already standardized your data, ensuring that features like BMI, glucose levels, and age are scaled correctly can have a significant impact on performance.\n",
        "\n",
        "- **Dimensionality Reduction**: Techniques like PCA (Principal Component Analysis) can be explored to reduce the number of input variables, potentially highlighting the most informative features.\n",
        "\n"
      ]
    },
    {
      "cell_type": "markdown",
      "id": "1cf6cbd8",
      "metadata": {
        "id": "1cf6cbd8"
      },
      "source": [
        "Action:\n",
        "\n",
        "    Create interaction features that might capture the combined effects of predictors.\n",
        "    Introduce polynomial features for variables like 'Age' and 'BMI'.\n",
        "\n",
        "Implementation:"
      ]
    },
    {
      "cell_type": "code",
      "execution_count": null,
      "id": "999f54ca",
      "metadata": {
        "id": "999f54ca"
      },
      "outputs": [],
      "source": [
        "from sklearn.preprocessing import PolynomialFeatures\n",
        "\n",
        "# Example: Adding polynomial features for 'Age' and 'BMI'\n",
        "poly = PolynomialFeatures(degree=2, include_bias=False)\n",
        "age_bmi_poly = poly.fit_transform(data[['Age', 'BMI']])\n",
        "age_bmi_poly_df = pd.DataFrame(age_bmi_poly, columns=poly.get_feature_names(['Age', 'BMI']))\n",
        "\n",
        "# Concatenate new polynomial features to the original dataframe\n",
        "data_poly = pd.concat([data, age_bmi_poly_df.iloc[:, 2:]], axis=1)  # avoid duplicate original features\n"
      ]
    },
    {
      "cell_type": "markdown",
      "id": "a8a9806f",
      "metadata": {
        "id": "a8a9806f"
      },
      "source": [
        "Evaluation:\n",
        "\n",
        "    Usage  of cross-validation to check if these new features improve model accuracy and other metrics."
      ]
    },
    {
      "cell_type": "markdown",
      "id": "8e2dbba0",
      "metadata": {
        "id": "8e2dbba0"
      },
      "source": [
        "\n",
        "##### 3. **Handling Imbalanced Data**\n",
        "\n",
        "If the dataset has significantly more instances of one class over the other, this can bias the model towards the majority class:\n",
        "\n",
        "- **Resampling Techniques**: Use oversampling (e.g., SMOTE) for the minority class or undersampling for the majority class to balance the dataset.\n",
        "\n",
        "- **Adjust Class Weights**: Modify the `class_weight` parameter in the logistic regression model to penalize misclassifications of the minority class more than the majority.\n",
        "\n"
      ]
    },
    {
      "cell_type": "markdown",
      "id": "f95621ee",
      "metadata": {
        "id": "f95621ee"
      },
      "source": [
        "Action:\n",
        "\n",
        "    Implement SMOTE for oversampling the minority class.\n",
        "\n",
        "Implementation:"
      ]
    },
    {
      "cell_type": "code",
      "execution_count": null,
      "id": "566bcf36",
      "metadata": {
        "id": "566bcf36"
      },
      "outputs": [],
      "source": [
        "from imblearn.over_sampling import SMOTE\n",
        "\n",
        "# Applying SMOTE\n",
        "smote = SMOTE(random_state=42)\n",
        "X_smote, y_smote = smote.fit_resample(X_train, y_train)\n"
      ]
    },
    {
      "cell_type": "markdown",
      "id": "f61bb9ca",
      "metadata": {
        "id": "f61bb9ca"
      },
      "source": [
        "##### 4. **Advanced Algorithms**\n",
        "\n",
        "- **Ensemble Methods**: Techniques like RandomForest, Gradient Boosting Machines (GBM), or XGBoost can provide better performance by combining the predictions of several base estimators.\n",
        "\n",
        "- **Experiment with Different Classifiers**: Besides logistic regression, try other algorithms like Support Vector Machines, k-Nearest Neighbors, or neural networks to see if they perform better.\n",
        "\n"
      ]
    },
    {
      "cell_type": "markdown",
      "id": "cf6f7d30",
      "metadata": {
        "id": "cf6f7d30"
      },
      "source": [
        "Action:\n",
        "\n",
        "    Evaluate ensemble methods like RandomForest and Gradient Boosting to see if they offer better performance.\n",
        "\n",
        "Implementation:"
      ]
    },
    {
      "cell_type": "code",
      "execution_count": null,
      "id": "79189848",
      "metadata": {
        "id": "79189848"
      },
      "outputs": [],
      "source": [
        "from sklearn.ensemble import RandomForestClassifier, GradientBoostingClassifier\n",
        "\n",
        "# Training RandomForest\n",
        "rf = RandomForestClassifier(n_estimators=100, random_state=42)\n",
        "rf.fit(X_train, y_train)\n",
        "\n",
        "# Training GradientBoosting\n",
        "gb = GradientBoostingClassifier(n_estimators=100, random_state=42)\n",
        "gb.fit(X_train, y_train)\n"
      ]
    },
    {
      "cell_type": "markdown",
      "id": "fc0d1755",
      "metadata": {
        "id": "fc0d1755"
      },
      "source": [
        "Evaluate:\n",
        "\n",
        "    Compare the accuracy, ROC-AUC, and other relevant metrics of these models against the logistic regression model."
      ]
    },
    {
      "cell_type": "markdown",
      "id": "160424ae",
      "metadata": {
        "id": "160424ae"
      },
      "source": [
        "##### 5. **Evaluation Metrics**\n",
        "\n",
        "- **Use Other Metrics**: Besides accuracy, consider metrics like Precision, Recall, F1 Score, and the AUC-ROC curve to get a better sense of model performance, especially from the perspective of handling false negatives and false positives effectively.\n",
        "\n"
      ]
    },
    {
      "cell_type": "markdown",
      "id": "027dfdf0",
      "metadata": {
        "id": "027dfdf0"
      },
      "source": [
        "##### 6. **Cross-Validation**\n",
        "\n",
        "- **Implement Cross-Validation**: Instead of a single train-test split, use k-fold cross-validation to ensure that the model's performance assessment is as robust as possible.\n",
        "\n"
      ]
    },
    {
      "cell_type": "markdown",
      "id": "c6f09744",
      "metadata": {
        "id": "c6f09744"
      },
      "source": [
        "Action:\n",
        "\n",
        "    Use k-fold cross-validation to validate the model's performance robustly.\n",
        "\n",
        "Implementation:"
      ]
    },
    {
      "cell_type": "code",
      "execution_count": null,
      "id": "c4a76f2a",
      "metadata": {
        "id": "c4a76f2a"
      },
      "outputs": [],
      "source": [
        "from sklearn.model_selection import cross_val_score\n",
        "\n",
        "# Logistic Regression with best parameters\n",
        "best_lr = LogisticRegression(**grid_search.best_params_)\n",
        "scores = cross_val_score(best_lr, X_train, y_train, cv=5, scoring='accuracy')\n",
        "print(\"Cross-validated accuracy: %0.2f (+/- %0.2f)\" % (scores.mean(), scores.std() * 2))\n"
      ]
    },
    {
      "cell_type": "markdown",
      "id": "4e02857f",
      "metadata": {
        "id": "4e02857f"
      },
      "source": [
        "# Step 8 : Deployment (Using AWS SageMaker)"
      ]
    },
    {
      "cell_type": "markdown",
      "id": "27ce320d",
      "metadata": {
        "id": "27ce320d"
      },
      "source": [
        "\n",
        "1. **Preparation of the Model for SageMaker**:\n",
        "   - We serialize the trained model using libraries like `pickle`.\n",
        "   - We prepare a script for model inference.\n",
        "\n",
        "2. **Creating a SageMaker Model**:\n",
        "   - We Upload your model artifacts to S3.\n",
        "   - we create a model by specifying the Docker container (provided by AWS for Scikit-learn), the role, and the S3 location of the serialized model.\n",
        "\n",
        "3. **We will deploy the Model**:\n",
        "   - Using the `create_endpoint` API to deploy the model.\n",
        "   - The endpoint will handle incoming HTTP requests, perform inferences, and return predictions."
      ]
    },
    {
      "cell_type": "code",
      "execution_count": null,
      "id": "85b43314",
      "metadata": {
        "id": "85b43314"
      },
      "outputs": [],
      "source": []
    }
  ],
  "metadata": {
    "kernelspec": {
      "display_name": "Python 3 (ipykernel)",
      "language": "python",
      "name": "python3"
    },
    "language_info": {
      "codemirror_mode": {
        "name": "ipython",
        "version": 3
      },
      "file_extension": ".py",
      "mimetype": "text/x-python",
      "name": "python",
      "nbconvert_exporter": "python",
      "pygments_lexer": "ipython3",
      "version": "3.9.7"
    },
    "colab": {
      "provenance": []
    }
  },
  "nbformat": 4,
  "nbformat_minor": 5
}